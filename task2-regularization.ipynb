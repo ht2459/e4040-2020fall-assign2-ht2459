{
 "cells": [
  {
   "cell_type": "markdown",
   "metadata": {
    "id": "zNmftLQvftPA"
   },
   "source": [
    "## Columbia University\n",
    "### ECBM E4040 Neural Networks and Deep Learning. Fall 2020."
   ]
  },
  {
   "cell_type": "markdown",
   "metadata": {
    "id": "-5Am7Lt0ftPD"
   },
   "source": [
    "# Assignment 2 - Task 2: Regularizations\n",
    "\n",
    "In this task, you are going to experiment with two popular regularization methods. \n",
    "\n",
    "**Dropout:** In the last assignment, you have trained a shallow network and everything looked fine. However, when the network becomes larger and deeper, it will also become harder to train. The first potential problem is over-fitting, that is, the network overreacts to noise or random errors of the training data, while it fails to detect the underlying distribution pattern. It is more likely to occur when the model becomes complex and contains more trainable parameters. Dropout is a well-known method that can eliminate such effects. The core idea behind it is quite simple, ie., rather than updating all trainable parameters each time, it randomly selects a subset of parameters to update and keeps other parameters unaltered.\n",
    "\n",
    "\n",
    "\n",
    "**Batch normalization:** Batch normalization makes it possible to train a deep network. When a network becomes deeper, the distribution of hidden neurons' values will also shift greatly, and that is one reason that makes it hard to train a deep neural network. Machine learning teaches that normalization is a good preprocessing method to deal with such a problem. So  batch normalization deploys a similar idea in the neural network. It re-normalizes the hidden values of each layer before transfering values to the next layer.\n",
    "\n",
    "\n",
    "* References\n",
    "    * https://www.cs.toronto.edu/~hinton/absps/JMLRdropout.pdf\n",
    "    * https://arxiv.org/pdf/1502.03167.pdf\n",
    "    * https://www.tensorflow.org/api_docs/python/tf/keras/layers/BatchNormalization\n",
    "    * https://www.tensorflow.org/api_docs/python/tf/nn/batch_normalization"
   ]
  },
  {
   "cell_type": "code",
   "execution_count": 1,
   "metadata": {
    "executionInfo": {
     "elapsed": 3837,
     "status": "ok",
     "timestamp": 1604844291454,
     "user": {
      "displayName": "Hangyu Tian",
      "photoUrl": "",
      "userId": "11737407264006368031"
     },
     "user_tz": -480
    },
    "id": "G4W4rdjfftPE"
   },
   "outputs": [],
   "source": [
    "# Import modules\n",
    "from __future__ import print_function\n",
    "import tensorflow as tf\n",
    "import numpy as np\n",
    "import matplotlib.pyplot as plt\n",
    "from utils.cifar_utils import load_data\n",
    "\n",
    "%matplotlib inline\n",
    "%load_ext autoreload\n",
    "%autoreload 2"
   ]
  },
  {
   "cell_type": "markdown",
   "metadata": {
    "id": "ecRyeeq_ftPJ"
   },
   "source": [
    "## Load Data"
   ]
  },
  {
   "cell_type": "code",
   "execution_count": 2,
   "metadata": {
    "colab": {
     "base_uri": "https://localhost:8080/"
    },
    "executionInfo": {
     "elapsed": 3833,
     "status": "ok",
     "timestamp": 1604844291456,
     "user": {
      "displayName": "Hangyu Tian",
      "photoUrl": "",
      "userId": "11737407264006368031"
     },
     "user_tz": -480
    },
    "id": "g8mgVtUIftPJ",
    "outputId": "c5df9c77-9296-48e0-ba63-123ee02dedee"
   },
   "outputs": [
    {
     "name": "stdout",
     "output_type": "stream",
     "text": [
      "./data/cifar-10-python.tar.gz already exists. Begin extracting...\n",
      "Training data shape:  (2000, 3072)\n",
      "Training labels shape:  (2000,)\n",
      "Validation data shape:  (500, 3072)\n",
      "Validation labels shape:  (500,)\n"
     ]
    }
   ],
   "source": [
    "# Load the raw CIFAR-10 data.\n",
    "X_train, y_train, X_test, y_test = load_data()\n",
    "X_val = X_train[:500,:]\n",
    "y_val = y_train[:500]\n",
    "X_train = X_train[500:2500,:]\n",
    "y_train = y_train[500:2500]\n",
    "\n",
    "mean_image = np.mean(X_train, axis=0).astype(np.float32)\n",
    "X_train = X_train.astype(np.float32) - mean_image\n",
    "X_val = X_val.astype(np.float32) - mean_image\n",
    "\n",
    "# We've vectorized the data for you. That is, we flatten the 32×32×3 images into 1×3072 Numpy arrays.\n",
    "print('Training data shape: ', X_train.shape)\n",
    "print('Training labels shape: ', y_train.shape)\n",
    "print('Validation data shape: ', X_val.shape)\n",
    "print('Validation labels shape: ', y_val.shape)"
   ]
  },
  {
   "cell_type": "markdown",
   "metadata": {
    "id": "EAo8eirJftPO"
   },
   "source": [
    "## Part 1: Dropout"
   ]
  },
  {
   "cell_type": "markdown",
   "metadata": {
    "id": "BPIxBURXftPP"
   },
   "source": [
    "### Implement dropout_foward function\n",
    "\n",
    "<span style=\"color:red\"><strong>TODO:</strong></span> Edit function **dropout_forward** in **./utils/reg_funcs.py**. If the code is running correctly, you will see that the outputs of the verification code should be close to each other. \n",
    "<br><br> If the function is correct, then **the output mean should be close to the input mean. Input mean and output test mean should be identical.**"
   ]
  },
  {
   "cell_type": "code",
   "execution_count": 3,
   "metadata": {
    "executionInfo": {
     "elapsed": 3826,
     "status": "ok",
     "timestamp": 1604844291457,
     "user": {
      "displayName": "Hangyu Tian",
      "photoUrl": "",
      "userId": "11737407264006368031"
     },
     "user_tz": -480
    },
    "id": "PRv8PR-zftPQ"
   },
   "outputs": [],
   "source": [
    "x_in = np.random.randn(500, 500) + 10"
   ]
  },
  {
   "cell_type": "code",
   "execution_count": 4,
   "metadata": {
    "colab": {
     "base_uri": "https://localhost:8080/"
    },
    "executionInfo": {
     "elapsed": 3821,
     "status": "ok",
     "timestamp": 1604844291458,
     "user": {
      "displayName": "Hangyu Tian",
      "photoUrl": "",
      "userId": "11737407264006368031"
     },
     "user_tz": -480
    },
    "id": "3RD0ybM1ftPT",
    "outputId": "7bceb98d-80ab-44f8-d676-923b4cb407a4"
   },
   "outputs": [
    {
     "name": "stdout",
     "output_type": "stream",
     "text": [
      "mean_of_input = 4.999407455234785\n",
      "mean_of_out = 4.986714369423632\n",
      "mean_of_out_test = 4.999407455234785\n"
     ]
    }
   ],
   "source": [
    "################################################\n",
    "# Checking/verification code. Don't change it. #\n",
    "################################################\n",
    "from utils.reg_funcs import dropout_forward\n",
    "from utils.reg_funcs import dropout_backward\n",
    "\n",
    "p = 0.5\n",
    "dropout_config = {\"enabled\": True, \"keep_prob\": p}\n",
    "# feedforward\n",
    "out, cache = dropout_forward(x=x_in, dropout_config=dropout_config, mode=\"train\")\n",
    "out_test, _ = dropout_forward(x=x_in, dropout_config=dropout_config, mode=\"test\") \n",
    "# backward\n",
    "dout = np.ones_like(x_in)\n",
    "dx = dropout_backward(dout, cache)\n",
    "################################################\n",
    "# Checking/verification code. Don't change it. #\n",
    "################################################\n",
    "# Check forward correctness\n",
    "print(\"mean_of_input = {}\".format(p*np.mean(x_in)))\n",
    "print(\"mean_of_out = {}\".format(np.mean(out)))\n",
    "print(\"mean_of_out_test = {}\".format(np.mean(out_test)))"
   ]
  },
  {
   "cell_type": "markdown",
   "metadata": {
    "id": "Zt3AcsKQftPZ"
   },
   "source": [
    "### Dropout Experiments with MLP\n",
    "\n",
    "<span style=\"color:red\"><strong>TODO:</strong></span>\n",
    "\n",
    "1. Add dropout into the MLP. Review **loss**, **predict** functions of class **MLP** in **./utils/neuralnets/mlp.py** and understand how the dropout is added into the MLP.\n",
    "\n",
    "2. Customize your own MLP network.Then, train networks with different **keep_prob**, like 0.1, 0.5, 0.7, 0.9, 1. If **keep_prob**==1, then the network is the MLP without dropout.\n",
    "\n",
    "3. Plot the loss, train accuracy and valid accuracy curves.\n",
    "\n",
    "Note that checking/validation code is included below with preselected dropout parameters."
   ]
  },
  {
   "cell_type": "code",
   "execution_count": 5,
   "metadata": {
    "executionInfo": {
     "elapsed": 5296,
     "status": "ok",
     "timestamp": 1604844292940,
     "user": {
      "displayName": "Hangyu Tian",
      "photoUrl": "",
      "userId": "11737407264006368031"
     },
     "user_tz": -480
    },
    "id": "aZTbIRZiftPa"
   },
   "outputs": [],
   "source": [
    "from utils.neuralnets.mlp import MLP \n",
    "from utils.optimizers import AdamOptim"
   ]
  },
  {
   "cell_type": "code",
   "execution_count": 6,
   "metadata": {
    "colab": {
     "base_uri": "https://localhost:8080/"
    },
    "executionInfo": {
     "elapsed": 30395,
     "status": "ok",
     "timestamp": 1604844318046,
     "user": {
      "displayName": "Hangyu Tian",
      "photoUrl": "",
      "userId": "11737407264006368031"
     },
     "user_tz": -480
    },
    "id": "03pVdOV1ftPd",
    "outputId": "4cecfe4b-c86b-4a20-8a18-59f14dc2c346",
    "scrolled": false
   },
   "outputs": [
    {
     "name": "stdout",
     "output_type": "stream",
     "text": [
      "number of batches for training: 20\n",
      "epoch 1: valid acc = 0.26, new learning rate = 0.00095\n",
      "epoch 2: valid acc = 0.264, new learning rate = 0.0009025\n",
      "epoch 3: valid acc = 0.34, new learning rate = 0.000857375\n",
      "epoch 4: valid acc = 0.278, new learning rate = 0.0008145062499999999\n",
      "epoch 5: valid acc = 0.318, new learning rate = 0.0007737809374999998\n",
      "epoch 6: valid acc = 0.286, new learning rate = 0.0007350918906249997\n",
      "epoch 7: valid acc = 0.31, new learning rate = 0.0006983372960937497\n",
      "epoch 8: valid acc = 0.348, new learning rate = 0.0006634204312890621\n",
      "epoch 9: valid acc = 0.346, new learning rate = 0.000630249409724609\n",
      "epoch 10: valid acc = 0.336, new learning rate = 0.0005987369392383785\n",
      "epoch 11: valid acc = 0.302, new learning rate = 0.0005688000922764595\n",
      "epoch 12: valid acc = 0.274, new learning rate = 0.0005403600876626365\n",
      "epoch 13: valid acc = 0.368, new learning rate = 0.0005133420832795047\n",
      "epoch 14: valid acc = 0.338, new learning rate = 0.00048767497911552944\n",
      "epoch 15: valid acc = 0.338, new learning rate = 0.00046329123015975297\n",
      "epoch 16: valid acc = 0.328, new learning rate = 0.0004401266686517653\n",
      "epoch 17: valid acc = 0.326, new learning rate = 0.00041812033521917703\n",
      "epoch 18: valid acc = 0.334, new learning rate = 0.00039721431845821814\n",
      "epoch 19: valid acc = 0.346, new learning rate = 0.0003773536025353072\n",
      "epoch 20: valid acc = 0.332, new learning rate = 0.0003584859224085418\n"
     ]
    }
   ],
   "source": [
    "# Here is an example on how to collect loss and accuracy info\n",
    "dropout_config = {\"enabled\":True, \"keep_prob\": 1}\n",
    "model = MLP(input_dim=3072, hidden_dims=[200], num_classes=10, \n",
    "            weight_scale=1e-3, l2_reg=0.0, dropout_config=dropout_config)\n",
    "optimizer = AdamOptim(model)\n",
    "# hist_no_dropout contains loss, train acc and valid acc history.\n",
    "hist_no_dropout = optimizer.train(model, X_train, y_train, X_val, y_val, \n",
    "                           num_epoch=20, batch_size=100, learning_rate=1e-3, learning_decay=0.95, \n",
    "                           verbose=False, record_interval = 4)"
   ]
  },
  {
   "cell_type": "code",
   "execution_count": 7,
   "metadata": {
    "colab": {
     "base_uri": "https://localhost:8080/"
    },
    "executionInfo": {
     "elapsed": 56560,
     "status": "ok",
     "timestamp": 1604844344218,
     "user": {
      "displayName": "Hangyu Tian",
      "photoUrl": "",
      "userId": "11737407264006368031"
     },
     "user_tz": -480
    },
    "id": "3wyB6dROftPh",
    "outputId": "36d8cca0-d491-4937-e369-7cc24b49d1b8"
   },
   "outputs": [
    {
     "name": "stdout",
     "output_type": "stream",
     "text": [
      "number of batches for training: 20\n",
      "epoch 1: valid acc = 0.212, new learning rate = 0.00095\n",
      "epoch 2: valid acc = 0.276, new learning rate = 0.0009025\n",
      "epoch 3: valid acc = 0.282, new learning rate = 0.000857375\n",
      "epoch 4: valid acc = 0.308, new learning rate = 0.0008145062499999999\n",
      "epoch 5: valid acc = 0.294, new learning rate = 0.0007737809374999998\n",
      "epoch 6: valid acc = 0.306, new learning rate = 0.0007350918906249997\n",
      "epoch 7: valid acc = 0.314, new learning rate = 0.0006983372960937497\n",
      "epoch 8: valid acc = 0.326, new learning rate = 0.0006634204312890621\n",
      "epoch 9: valid acc = 0.318, new learning rate = 0.000630249409724609\n",
      "epoch 10: valid acc = 0.334, new learning rate = 0.0005987369392383785\n",
      "epoch 11: valid acc = 0.338, new learning rate = 0.0005688000922764595\n",
      "epoch 12: valid acc = 0.332, new learning rate = 0.0005403600876626365\n",
      "epoch 13: valid acc = 0.354, new learning rate = 0.0005133420832795047\n",
      "epoch 14: valid acc = 0.354, new learning rate = 0.00048767497911552944\n",
      "epoch 15: valid acc = 0.33, new learning rate = 0.00046329123015975297\n",
      "epoch 16: valid acc = 0.332, new learning rate = 0.0004401266686517653\n",
      "epoch 17: valid acc = 0.34, new learning rate = 0.00041812033521917703\n",
      "epoch 18: valid acc = 0.358, new learning rate = 0.00039721431845821814\n",
      "epoch 19: valid acc = 0.348, new learning rate = 0.0003773536025353072\n",
      "epoch 20: valid acc = 0.348, new learning rate = 0.0003584859224085418\n"
     ]
    }
   ],
   "source": [
    "# small retention rate\n",
    "dropout_config[\"keep_prob\"] = 0.1\n",
    "model = MLP(input_dim=3072, hidden_dims=[200], num_classes=10, \n",
    "            weight_scale=1e-2, l2_reg=0.0, dropout_config=dropout_config)\n",
    "optimizer = AdamOptim(model)\n",
    "hist_dropout_1 = optimizer.train(model, X_train, y_train, X_val, y_val, \n",
    "                           num_epoch=20, batch_size=100, learning_rate=1e-3, learning_decay=0.95,\n",
    "                           verbose=False, record_interval = 4)"
   ]
  },
  {
   "cell_type": "code",
   "execution_count": 8,
   "metadata": {
    "colab": {
     "base_uri": "https://localhost:8080/"
    },
    "executionInfo": {
     "elapsed": 80092,
     "status": "ok",
     "timestamp": 1604844367758,
     "user": {
      "displayName": "Hangyu Tian",
      "photoUrl": "",
      "userId": "11737407264006368031"
     },
     "user_tz": -480
    },
    "id": "ASbEdXFEftPk",
    "outputId": "430d7162-44ca-457b-d5a1-b037c89a6b48"
   },
   "outputs": [
    {
     "name": "stdout",
     "output_type": "stream",
     "text": [
      "number of batches for training: 20\n",
      "epoch 1: valid acc = 0.222, new learning rate = 0.00095\n",
      "epoch 2: valid acc = 0.29, new learning rate = 0.0009025\n",
      "epoch 3: valid acc = 0.286, new learning rate = 0.000857375\n",
      "epoch 4: valid acc = 0.334, new learning rate = 0.0008145062499999999\n",
      "epoch 5: valid acc = 0.348, new learning rate = 0.0007737809374999998\n",
      "epoch 6: valid acc = 0.354, new learning rate = 0.0007350918906249997\n",
      "epoch 7: valid acc = 0.32, new learning rate = 0.0006983372960937497\n",
      "epoch 8: valid acc = 0.342, new learning rate = 0.0006634204312890621\n",
      "epoch 9: valid acc = 0.354, new learning rate = 0.000630249409724609\n",
      "epoch 10: valid acc = 0.334, new learning rate = 0.0005987369392383785\n",
      "epoch 11: valid acc = 0.336, new learning rate = 0.0005688000922764595\n",
      "epoch 12: valid acc = 0.358, new learning rate = 0.0005403600876626365\n",
      "epoch 13: valid acc = 0.324, new learning rate = 0.0005133420832795047\n",
      "epoch 14: valid acc = 0.35, new learning rate = 0.00048767497911552944\n",
      "epoch 15: valid acc = 0.358, new learning rate = 0.00046329123015975297\n",
      "epoch 16: valid acc = 0.354, new learning rate = 0.0004401266686517653\n",
      "epoch 17: valid acc = 0.368, new learning rate = 0.00041812033521917703\n",
      "epoch 18: valid acc = 0.382, new learning rate = 0.00039721431845821814\n",
      "epoch 19: valid acc = 0.37, new learning rate = 0.0003773536025353072\n",
      "epoch 20: valid acc = 0.368, new learning rate = 0.0003584859224085418\n"
     ]
    }
   ],
   "source": [
    "dropout_config[\"keep_prob\"] = 0.5\n",
    "model = MLP(input_dim=3072, hidden_dims=[200], num_classes=10, \n",
    "            weight_scale=1e-2, l2_reg=0.0, dropout_config=dropout_config)\n",
    "optimizer = AdamOptim(model)\n",
    "hist_dropout_5 = optimizer.train(model, X_train, y_train, X_val, y_val, \n",
    "                           num_epoch=20, batch_size=100, learning_rate=1e-3, learning_decay=0.95,\n",
    "                           verbose=False, record_interval = 4)"
   ]
  },
  {
   "cell_type": "code",
   "execution_count": 9,
   "metadata": {
    "colab": {
     "base_uri": "https://localhost:8080/"
    },
    "executionInfo": {
     "elapsed": 105998,
     "status": "ok",
     "timestamp": 1604844393672,
     "user": {
      "displayName": "Hangyu Tian",
      "photoUrl": "",
      "userId": "11737407264006368031"
     },
     "user_tz": -480
    },
    "id": "HcYF2hcTftPo",
    "outputId": "c988a956-788e-44e1-8647-6d7a7425c1f2"
   },
   "outputs": [
    {
     "name": "stdout",
     "output_type": "stream",
     "text": [
      "number of batches for training: 20\n",
      "epoch 1: valid acc = 0.218, new learning rate = 0.00095\n",
      "epoch 2: valid acc = 0.278, new learning rate = 0.0009025\n",
      "epoch 3: valid acc = 0.33, new learning rate = 0.000857375\n",
      "epoch 4: valid acc = 0.316, new learning rate = 0.0008145062499999999\n",
      "epoch 5: valid acc = 0.342, new learning rate = 0.0007737809374999998\n",
      "epoch 6: valid acc = 0.402, new learning rate = 0.0007350918906249997\n",
      "epoch 7: valid acc = 0.386, new learning rate = 0.0006983372960937497\n",
      "epoch 8: valid acc = 0.372, new learning rate = 0.0006634204312890621\n",
      "epoch 9: valid acc = 0.374, new learning rate = 0.000630249409724609\n",
      "epoch 10: valid acc = 0.37, new learning rate = 0.0005987369392383785\n",
      "epoch 11: valid acc = 0.392, new learning rate = 0.0005688000922764595\n",
      "epoch 12: valid acc = 0.366, new learning rate = 0.0005403600876626365\n",
      "epoch 13: valid acc = 0.384, new learning rate = 0.0005133420832795047\n",
      "epoch 14: valid acc = 0.384, new learning rate = 0.00048767497911552944\n",
      "epoch 15: valid acc = 0.374, new learning rate = 0.00046329123015975297\n",
      "epoch 16: valid acc = 0.36, new learning rate = 0.0004401266686517653\n",
      "epoch 17: valid acc = 0.372, new learning rate = 0.00041812033521917703\n",
      "epoch 18: valid acc = 0.392, new learning rate = 0.00039721431845821814\n",
      "epoch 19: valid acc = 0.352, new learning rate = 0.0003773536025353072\n",
      "epoch 20: valid acc = 0.382, new learning rate = 0.0003584859224085418\n"
     ]
    }
   ],
   "source": [
    "dropout_config[\"keep_prob\"] = 0.7\n",
    "model = MLP(input_dim=3072, hidden_dims=[200], num_classes=10, \n",
    "            weight_scale=1e-2, l2_reg=0.0, dropout_config=dropout_config)\n",
    "optimizer = AdamOptim(model)\n",
    "hist_dropout_7 = optimizer.train(model, X_train, y_train, X_val, y_val, \n",
    "                           num_epoch=20, batch_size=100, learning_rate=1e-3, learning_decay=0.95,\n",
    "                           verbose=False, record_interval = 4)"
   ]
  },
  {
   "cell_type": "code",
   "execution_count": 10,
   "metadata": {
    "colab": {
     "base_uri": "https://localhost:8080/"
    },
    "executionInfo": {
     "elapsed": 132372,
     "status": "ok",
     "timestamp": 1604844420054,
     "user": {
      "displayName": "Hangyu Tian",
      "photoUrl": "",
      "userId": "11737407264006368031"
     },
     "user_tz": -480
    },
    "id": "qy5ULmAwftPr",
    "outputId": "75ff2f31-d9f6-40c8-d26d-6991f279d594"
   },
   "outputs": [
    {
     "name": "stdout",
     "output_type": "stream",
     "text": [
      "number of batches for training: 20\n",
      "epoch 1: valid acc = 0.186, new learning rate = 0.00095\n",
      "epoch 2: valid acc = 0.26, new learning rate = 0.0009025\n",
      "epoch 3: valid acc = 0.282, new learning rate = 0.000857375\n",
      "epoch 4: valid acc = 0.316, new learning rate = 0.0008145062499999999\n",
      "epoch 5: valid acc = 0.324, new learning rate = 0.0007737809374999998\n",
      "epoch 6: valid acc = 0.294, new learning rate = 0.0007350918906249997\n",
      "epoch 7: valid acc = 0.324, new learning rate = 0.0006983372960937497\n",
      "epoch 8: valid acc = 0.326, new learning rate = 0.0006634204312890621\n",
      "epoch 9: valid acc = 0.332, new learning rate = 0.000630249409724609\n",
      "epoch 10: valid acc = 0.342, new learning rate = 0.0005987369392383785\n",
      "epoch 11: valid acc = 0.35, new learning rate = 0.0005688000922764595\n",
      "epoch 12: valid acc = 0.358, new learning rate = 0.0005403600876626365\n",
      "epoch 13: valid acc = 0.352, new learning rate = 0.0005133420832795047\n",
      "epoch 14: valid acc = 0.336, new learning rate = 0.00048767497911552944\n",
      "epoch 15: valid acc = 0.324, new learning rate = 0.00046329123015975297\n",
      "epoch 16: valid acc = 0.35, new learning rate = 0.0004401266686517653\n",
      "epoch 17: valid acc = 0.348, new learning rate = 0.00041812033521917703\n",
      "epoch 18: valid acc = 0.34, new learning rate = 0.00039721431845821814\n",
      "epoch 19: valid acc = 0.368, new learning rate = 0.0003773536025353072\n",
      "epoch 20: valid acc = 0.356, new learning rate = 0.0003584859224085418\n"
     ]
    }
   ],
   "source": [
    "dropout_config[\"keep_prob\"] = 0.9\n",
    "model = MLP(input_dim=3072, hidden_dims=[200], num_classes=10, \n",
    "            weight_scale=1e-2, l2_reg=0.0, dropout_config=dropout_config)\n",
    "optimizer = AdamOptim(model)\n",
    "hist_dropout_9 = optimizer.train(model, X_train, y_train, X_val, y_val, \n",
    "                           num_epoch=20, batch_size=100, learning_rate=1e-3, learning_decay=0.95,\n",
    "                           verbose=False, record_interval = 4)"
   ]
  },
  {
   "cell_type": "code",
   "execution_count": 11,
   "metadata": {
    "executionInfo": {
     "elapsed": 132364,
     "status": "ok",
     "timestamp": 1604844420055,
     "user": {
      "displayName": "Hangyu Tian",
      "photoUrl": "",
      "userId": "11737407264006368031"
     },
     "user_tz": -480
    },
    "id": "OuOX1AxuftPw"
   },
   "outputs": [],
   "source": [
    "loss_no_dropout, train_acc_no_dropout, val_acc_no_dropout = hist_no_dropout\n",
    "loss_dropout_1, train_acc_dropout_1, val_acc_dropout_1 = hist_dropout_1\n",
    "loss_dropout_5, train_acc_dropout_5, val_acc_dropout_5 = hist_dropout_5\n",
    "loss_dropout_7, train_acc_dropout_7, val_acc_dropout_7 = hist_dropout_7\n",
    "loss_dropout_9, train_acc_dropout_9, val_acc_dropout_9 = hist_dropout_9"
   ]
  },
  {
   "cell_type": "code",
   "execution_count": 12,
   "metadata": {
    "colab": {
     "base_uri": "https://localhost:8080/",
     "height": 265
    },
    "executionInfo": {
     "elapsed": 132358,
     "status": "ok",
     "timestamp": 1604844420056,
     "user": {
      "displayName": "Hangyu Tian",
      "photoUrl": "",
      "userId": "11737407264006368031"
     },
     "user_tz": -480
    },
    "id": "HSDQ534dftPy",
    "outputId": "0d8ccacc-87ec-4c68-8cc3-610310b78a4e"
   },
   "outputs": [
    {
     "data": {
      "image/png": "[encoded data removed]",
      "text/plain": [
       "<Figure size 432x288 with 1 Axes>"
      ]
     },
     "metadata": {
      "needs_background": "light"
     },
     "output_type": "display_data"
    }
   ],
   "source": [
    "plt.plot(loss_no_dropout, label=\"no dropout\")\n",
    "plt.plot(loss_dropout_1, label=\"keep_prob=0.1\")\n",
    "plt.plot(loss_dropout_5, label=\"keep_prob=0.5\")\n",
    "plt.plot(loss_dropout_7, label=\"keep_prob=0.7\")\n",
    "plt.plot(loss_dropout_9, label=\"keep_prob=0.9\")\n",
    "plt.legend()\n",
    "plt.show()"
   ]
  },
  {
   "cell_type": "code",
   "execution_count": 13,
   "metadata": {
    "colab": {
     "base_uri": "https://localhost:8080/",
     "height": 265
    },
    "executionInfo": {
     "elapsed": 132348,
     "status": "ok",
     "timestamp": 1604844420057,
     "user": {
      "displayName": "Hangyu Tian",
      "photoUrl": "",
      "userId": "11737407264006368031"
     },
     "user_tz": -480
    },
    "id": "WEuzIwNGftP1",
    "outputId": "827a90ef-e332-409b-b48a-2b535b22e16c"
   },
   "outputs": [
    {
     "data": {
      "image/png": "[encoded data removed]",
      "text/plain": [
       "<Figure size 432x288 with 1 Axes>"
      ]
     },
     "metadata": {
      "needs_background": "light"
     },
     "output_type": "display_data"
    }
   ],
   "source": [
    "plt.plot(train_acc_no_dropout, label=\"no dropout\")\n",
    "plt.plot(train_acc_dropout_1, label=\"keep_prob=0.1\")\n",
    "plt.plot(train_acc_dropout_5, label=\"keep_prob=0.5\")\n",
    "plt.plot(train_acc_dropout_7, label=\"keep_prob=0.7\")\n",
    "plt.plot(train_acc_dropout_9, label=\"keep_prob=0.9\")\n",
    "plt.legend()\n",
    "plt.show()"
   ]
  },
  {
   "cell_type": "code",
   "execution_count": 14,
   "metadata": {
    "colab": {
     "base_uri": "https://localhost:8080/",
     "height": 265
    },
    "executionInfo": {
     "elapsed": 134622,
     "status": "ok",
     "timestamp": 1604844422341,
     "user": {
      "displayName": "Hangyu Tian",
      "photoUrl": "",
      "userId": "11737407264006368031"
     },
     "user_tz": -480
    },
    "id": "uniD_a9rftP4",
    "outputId": "ab572c29-34df-4aea-f229-03b7c6ebac6b"
   },
   "outputs": [
    {
     "data": {
      "image/png": "[encoded data removed]",
      "text/plain": [
       "<Figure size 432x288 with 1 Axes>"
      ]
     },
     "metadata": {
      "needs_background": "light"
     },
     "output_type": "display_data"
    }
   ],
   "source": [
    "plt.plot(val_acc_no_dropout, label=\"no dropout\")\n",
    "plt.plot(val_acc_dropout_1, label=\"keep_prob=0.1\")\n",
    "plt.plot(val_acc_dropout_5, label=\"keep_prob=0.5\")\n",
    "plt.plot(val_acc_dropout_7, label=\"keep_prob=0.7\")\n",
    "plt.plot(val_acc_dropout_9, label=\"keep_prob=0.9\")\n",
    "plt.legend()\n",
    "plt.show()"
   ]
  },
  {
   "cell_type": "markdown",
   "metadata": {
    "id": "cUABl3lLftP6"
   },
   "source": [
    "<span style=\"color:red\"><strong>TODO:</strong></span> Describe what you find in this dropout experiment."
   ]
  },
  {
   "cell_type": "markdown",
   "metadata": {
    "id": "wijAeRSnftP6"
   },
   "source": [
    "Answer: The dropout method intended to avoid overfitting. From the graphs above, the validation accuracy of the models have 0.9 keep probability is the highest, rougly about 40%. So does the training accuracy. One interesting I found was, while the keep probability is 0.1. It has the lowest training  accuracy, but it outperforms the others in the val accuracy. This certainly indicates the overfitting exists. "
   ]
  },
  {
   "cell_type": "markdown",
   "metadata": {
    "id": "e3FxhwspftP7"
   },
   "source": [
    "## Part 2: Batch Normalization"
   ]
  },
  {
   "cell_type": "markdown",
   "metadata": {
    "id": "RUJGmjHEftP7"
   },
   "source": [
    "### Implement batch normalization foward function\n",
    "\n",
    "<span style=\"color:red\"><strong>TODO:</strong></span> Edit functions **bn_forward** in **./utils/reg_funcs.py**. <br> If the code is running correctly, **mean of a2_bn for train will be very close to 0 and variance of a2_bn will be close to 1.**"
   ]
  },
  {
   "cell_type": "code",
   "execution_count": 15,
   "metadata": {
    "colab": {
     "base_uri": "https://localhost:8080/"
    },
    "executionInfo": {
     "elapsed": 134614,
     "status": "ok",
     "timestamp": 1604844422342,
     "user": {
      "displayName": "Hangyu Tian",
      "photoUrl": "",
      "userId": "11737407264006368031"
     },
     "user_tz": -480
    },
    "id": "Rv2fGggbftP7",
    "outputId": "c9cf5c7d-ed0f-4e4e-b510-32234a2619ba"
   },
   "outputs": [
    {
     "name": "stdout",
     "output_type": "stream",
     "text": [
      "mean of a2:  [ 1.30614901  5.92062846 -3.22121602]\n",
      "var of a2:  [ 6.82372265 40.8015143   9.77739076]\n",
      "(train) mean of a2_bn:  [-2.97262215e-16 -4.14113188e-16 -1.58623115e-16]\n",
      "(train) var of a2_bn:  [0.99999853 0.99999975 0.99999898]\n"
     ]
    }
   ],
   "source": [
    "####################################################\n",
    "# Checking/verification code. Don't change it.     #\n",
    "####################################################\n",
    "\n",
    "from utils.reg_funcs import bn_forward\n",
    "from utils.reg_funcs import bn_backward\n",
    "\n",
    "np.random.seed(4041)\n",
    "N, D, H1, H2 = 200, 10, 5, 3\n",
    "x_in = np.random.randn(N, D)\n",
    "w1 = np.random.randn(D,H1)\n",
    "w2 = np.random.randn(H1,H2)\n",
    "a2 = np.maximum(x_in.dot(w1),0).dot(w2)\n",
    "\n",
    "# Before batch normalization\n",
    "print(\"mean of a2: \", np.mean(a2, axis=0))\n",
    "print(\"var of a2: \", np.var(a2, axis=0))\n",
    "\n",
    "# Test \"train mode\" of forward function\n",
    "# After batch normalization, the mean should be close to zero and var should be close to one. \n",
    "bn_config = {\"epsilon\":1e-5, \"decay\":0.9}\n",
    "gamma = np.ones(H2)\n",
    "beta = np.zeros(H2)\n",
    "a2_bn, _ = bn_forward(a2, gamma, beta, bn_config, \"train\")\n",
    "print(\"(train) mean of a2_bn: \", np.mean(a2_bn, axis=0))\n",
    "print(\"(train) var of a2_bn: \", np.var(a2_bn, axis=0))"
   ]
  },
  {
   "cell_type": "markdown",
   "metadata": {
    "id": "4A9j6bBvftP_"
   },
   "source": [
    "<span style=\"color:red\"><strong>TODO:</strong></span> Test \"moving average\" and \"test mode\" of the bn_forward function. <br> We expect that the mean & variance of the test to be fairly close to the real values and mean & variance of a2_bn to be close to 0 and 1 respectively."
   ]
  },
  {
   "cell_type": "code",
   "execution_count": 16,
   "metadata": {
    "colab": {
     "base_uri": "https://localhost:8080/"
    },
    "executionInfo": {
     "elapsed": 134608,
     "status": "ok",
     "timestamp": 1604844422343,
     "user": {
      "displayName": "Hangyu Tian",
      "photoUrl": "",
      "userId": "11737407264006368031"
     },
     "user_tz": -480
    },
    "id": "IGhjK0cEftQA",
    "outputId": "b711fc5e-878d-449c-e13a-3434fbdcafb0"
   },
   "outputs": [
    {
     "name": "stdout",
     "output_type": "stream",
     "text": [
      "real mean of data:  [ 0.98787625  5.15537852 -3.17395627]\n",
      "real var of data:  [ 5.52632903 33.50179753  8.69746352]\n",
      "moving mean of data:  [[ 1.00212034  5.17647793 -3.15367683]]\n",
      "moving var of data:  [[ 5.58824353 34.13057973  8.74946176]]\n",
      "********************************************************************************\n",
      "mean of a2:  [ 1.08884721  4.92968194 -3.10726945]\n",
      "var of a2:  [ 4.97160606 38.72623056  8.64775578]\n",
      "(test) mean of a2_bn:  [ 0.03668729 -0.04224411  0.01568903]\n",
      "(test) var of a2_bn:  [0.88965292 1.13464874 0.98837461]\n"
     ]
    }
   ],
   "source": [
    "#######################################\n",
    "# Checking code. Don't change it.     #\n",
    "#######################################\n",
    "\n",
    "# Test \"moving average\" and \"test mode\" of forward function\n",
    "# Then you are going to run the forward function under \"training mode\" for several times, \n",
    "# and the moving mean and moving var will be close to the real mean and var of the input data.\n",
    "# Next, run the forward function under \"test\" mode and you will see that the mean and var of its \n",
    "# output will be also close to gamma, beta that you have set before.\n",
    "\n",
    "bn_config = {\"epsilon\":1e-5, \"decay\":0.9}\n",
    "gamma = np.ones(H2)\n",
    "beta = np.zeros(H2)\n",
    "\n",
    "# collect_data: for calculating real mean and var of a2 later.\n",
    "collect_data = a2\n",
    "for _ in range(100):\n",
    "    x_in = np.random.randn(N, D)\n",
    "    a2 = np.maximum(x_in.dot(w1),0).dot(w2)\n",
    "    collect_data = np.concatenate((collect_data, a2), axis=0)\n",
    "    bn_forward(a2, gamma, beta, bn_config, \"train\")\n",
    "\n",
    "# compare moving_mean and moving_var with real mean and var.\n",
    "# You should see that they are close to each other.\n",
    "print(\"real mean of data: \", np.mean(collect_data, axis=0))\n",
    "print(\"real var of data: \", np.var(collect_data, axis=0))\n",
    "print(\"moving mean of data: \", bn_config[\"moving_mean\"])\n",
    "print(\"moving var of data: \", bn_config[\"moving_var\"])\n",
    "\n",
    "# \"test mode\" of forward function\n",
    "# After bn_forward, the mean and var of output should be kind of close to gamma and beta.\n",
    "x_in = np.random.randn(N, D)\n",
    "a2 = np.maximum(x_in.dot(w1),0).dot(w2)\n",
    "print(\"*\"*80)\n",
    "print(\"mean of a2: \", np.mean(a2, axis=0))\n",
    "print(\"var of a2: \", np.var(a2, axis=0))\n",
    "a2_bn, _ = bn_forward(a2, gamma, beta, bn_config, \"test\")\n",
    "print(\"(test) mean of a2_bn: \", np.mean(a2_bn, axis=0))\n",
    "print(\"(test) var of a2_bn: \", np.var(a2_bn, axis=0))"
   ]
  },
  {
   "cell_type": "markdown",
   "metadata": {
    "id": "p0lrfRoSftQC"
   },
   "source": [
    "<span style=\"color:red\"><strong>TODO:</strong></span> Use TensorFlow 2 functions to verify the correctness of the backward function. You should use functions from TensorFlow 2 to get the gradients. \n",
    "<br>**Hint: use tf.GradientTape()**"
   ]
  },
  {
   "cell_type": "code",
   "execution_count": 17,
   "metadata": {
    "colab": {
     "base_uri": "https://localhost:8080/"
    },
    "executionInfo": {
     "elapsed": 134603,
     "status": "ok",
     "timestamp": 1604844422347,
     "user": {
      "displayName": "Hangyu Tian",
      "photoUrl": "",
      "userId": "11737407264006368031"
     },
     "user_tz": -480
    },
    "id": "U0eB8CA5ftQD",
    "outputId": "c5dce3f5-6e7c-49a9-80c6-0c85fdea819a"
   },
   "outputs": [
    {
     "name": "stdout",
     "output_type": "stream",
     "text": [
      "Is a2_bn correct? True\n",
      "Is da2 correct? True\n",
      "Is dgamma correct? True\n",
      "Is dbeta correct? True\n"
     ]
    }
   ],
   "source": [
    "# After verifying the forward function and save the bn_config.\n",
    "x_in = np.random.randn(N, D)\n",
    "a2 = np.maximum(x_in.dot(w1),0).dot(w2)\n",
    "da2_bn = np.ones_like(a2)\n",
    "# Test backward function with tensorflow\n",
    "# You will use bn_config = {\"eps\":1e-5, \"decay\":0.9, \"moving_mean\":moving_mean, \"moving_var\":moving_var}\n",
    "gamma = np.ones(H2)\n",
    "beta = np.zeros(H2)\n",
    "a2_bn, cache = bn_forward(a2, gamma, beta, bn_config, \"test\")\n",
    "da2, dgamma, dbeta = bn_backward(da2_bn, cache)\n",
    "\n",
    "###################################################\n",
    "# TODO: verify the backward code. You should use  #\n",
    "# the parameters in bn_config and other variables #\n",
    "# above.                                          #\n",
    "###################################################\n",
    "\n",
    "eps, moving_mean, moving_var = bn_config[\"epsilon\"], bn_config[\"moving_mean\"], bn_config[\"moving_var\"]\n",
    "\n",
    "a2_bn_check = tf.nn.batch_normalization(a2, moving_mean, moving_var, beta, gamma, eps)\n",
    "\n",
    "#da2_check\n",
    "a2 = tf.constant(a2)\n",
    "with tf.GradientTape() as g:\n",
    "  g.watch(a2)\n",
    "  y = gamma * ((a2-moving_mean) / np.sqrt(moving_var+eps)) + beta\n",
    "da2_check = g.gradient(y, a2)\n",
    "\n",
    "#dgamma_check\n",
    "gamma = tf.constant(gamma)\n",
    "with tf.GradientTape() as g:\n",
    "  g.watch(gamma)\n",
    "  y = gamma * ((a2-moving_mean) / np.sqrt(moving_var+eps)) + beta\n",
    "dgamma_check = g.gradient(y, gamma)\n",
    "\n",
    "#dbeta_check\n",
    "beta = tf.constant(beta)\n",
    "with tf.GradientTape() as g:\n",
    "  g.watch(beta)\n",
    "  y = gamma * ((a2-moving_mean) / np.sqrt(moving_var+eps)) + beta\n",
    "dbeta_check = g.gradient(y, beta)\n",
    "\n",
    "###################################################\n",
    "# ENDTODO #\n",
    "###################################################\n",
    "\n",
    "    \n",
    "# Make comparison\n",
    "print(\"Is a2_bn correct? {}\".format(np.allclose(a2_bn, a2_bn_check)))\n",
    "print(\"Is da2 correct? {}\".format(np.allclose(da2, da2_check)))\n",
    "print(\"Is dgamma correct? {}\".format(np.allclose(dgamma, dgamma_check)))\n",
    "print(\"Is dbeta correct? {}\".format(np.allclose(dbeta, dbeta_check)))"
   ]
  },
  {
   "cell_type": "markdown",
   "metadata": {
    "id": "gKFeumypftQG"
   },
   "source": [
    "### Batch Normalization Experiments with MLP\n",
    "\n",
    "<span style=\"color:red\"><strong>TODO:</strong></span>\n",
    "\n",
    "1. Add batch normalization into MLP. Please understand **loss**, **predict** functions of the class **MLP** in **./utils/neuralnets/mlp.py**\n",
    "\n",
    "2. First create a shallow MLP like two-layer network like [100,10]. Train it without and with batch normalization. Plot the loss, train accuracy and valid(ation) accuracy curves.\n",
    "\n",
    "3. Then, create a 5-layer MLP network like [100,50,50,50,10] and train the network with and without batch normalization. Plot the loss, train accuracy and valid accuracy curves.\n",
    "\n",
    "4. Make a comparison and describe what you have found in this experiment."
   ]
  },
  {
   "cell_type": "markdown",
   "metadata": {
    "id": "p9i9Q8HlftQH"
   },
   "source": [
    "**Experiment on shallow MLP** "
   ]
  },
  {
   "cell_type": "code",
   "execution_count": 18,
   "metadata": {
    "colab": {
     "base_uri": "https://localhost:8080/"
    },
    "executionInfo": {
     "elapsed": 162446,
     "status": "ok",
     "timestamp": 1604844450198,
     "user": {
      "displayName": "Hangyu Tian",
      "photoUrl": "",
      "userId": "11737407264006368031"
     },
     "user_tz": -480
    },
    "id": "nVkhUFjZftQH",
    "outputId": "2aa20695-a284-499d-a3ea-0c43a1d059c7"
   },
   "outputs": [
    {
     "name": "stdout",
     "output_type": "stream",
     "text": [
      "number of batches for training: 20\n",
      "epoch 1: valid acc = 0.264, new learning rate = 0.00095\n",
      "epoch 2: valid acc = 0.336, new learning rate = 0.0009025\n",
      "epoch 3: valid acc = 0.304, new learning rate = 0.000857375\n",
      "epoch 4: valid acc = 0.324, new learning rate = 0.0008145062499999999\n",
      "epoch 5: valid acc = 0.334, new learning rate = 0.0007737809374999998\n",
      "epoch 6: valid acc = 0.302, new learning rate = 0.0007350918906249997\n",
      "epoch 7: valid acc = 0.326, new learning rate = 0.0006983372960937497\n",
      "epoch 8: valid acc = 0.314, new learning rate = 0.0006634204312890621\n",
      "epoch 9: valid acc = 0.356, new learning rate = 0.000630249409724609\n",
      "epoch 10: valid acc = 0.35, new learning rate = 0.0005987369392383785\n",
      "epoch 11: valid acc = 0.362, new learning rate = 0.0005688000922764595\n",
      "epoch 12: valid acc = 0.376, new learning rate = 0.0005403600876626365\n",
      "epoch 13: valid acc = 0.358, new learning rate = 0.0005133420832795047\n",
      "epoch 14: valid acc = 0.332, new learning rate = 0.00048767497911552944\n",
      "epoch 15: valid acc = 0.346, new learning rate = 0.00046329123015975297\n",
      "epoch 16: valid acc = 0.322, new learning rate = 0.0004401266686517653\n",
      "epoch 17: valid acc = 0.326, new learning rate = 0.00041812033521917703\n",
      "epoch 18: valid acc = 0.332, new learning rate = 0.00039721431845821814\n",
      "epoch 19: valid acc = 0.344, new learning rate = 0.0003773536025353072\n",
      "epoch 20: valid acc = 0.368, new learning rate = 0.0003584859224085418\n",
      "epoch 21: valid acc = 0.364, new learning rate = 0.0003405616262881147\n",
      "epoch 22: valid acc = 0.372, new learning rate = 0.00032353354497370894\n",
      "epoch 23: valid acc = 0.35, new learning rate = 0.00030735686772502346\n",
      "epoch 24: valid acc = 0.372, new learning rate = 0.00029198902433877225\n",
      "epoch 25: valid acc = 0.368, new learning rate = 0.00027738957312183364\n",
      "epoch 26: valid acc = 0.354, new learning rate = 0.0002635200944657419\n",
      "epoch 27: valid acc = 0.358, new learning rate = 0.0002503440897424548\n",
      "epoch 28: valid acc = 0.368, new learning rate = 0.00023782688525533205\n",
      "epoch 29: valid acc = 0.36, new learning rate = 0.00022593554099256544\n",
      "epoch 30: valid acc = 0.368, new learning rate = 0.00021463876394293716\n",
      "epoch 31: valid acc = 0.38, new learning rate = 0.0002039068257457903\n",
      "epoch 32: valid acc = 0.388, new learning rate = 0.00019371148445850077\n",
      "epoch 33: valid acc = 0.382, new learning rate = 0.00018402591023557573\n",
      "epoch 34: valid acc = 0.382, new learning rate = 0.00017482461472379692\n",
      "epoch 35: valid acc = 0.384, new learning rate = 0.00016608338398760707\n",
      "epoch 36: valid acc = 0.384, new learning rate = 0.0001577792147882267\n",
      "epoch 37: valid acc = 0.386, new learning rate = 0.00014989025404881537\n",
      "epoch 38: valid acc = 0.388, new learning rate = 0.00014239574134637458\n",
      "epoch 39: valid acc = 0.386, new learning rate = 0.00013527595427905584\n",
      "epoch 40: valid acc = 0.386, new learning rate = 0.00012851215656510304\n",
      "epoch 41: valid acc = 0.386, new learning rate = 0.00012208654873684788\n",
      "epoch 42: valid acc = 0.386, new learning rate = 0.00011598222130000548\n",
      "epoch 43: valid acc = 0.384, new learning rate = 0.00011018311023500519\n",
      "epoch 44: valid acc = 0.386, new learning rate = 0.00010467395472325493\n",
      "epoch 45: valid acc = 0.384, new learning rate = 9.944025698709218e-05\n",
      "epoch 46: valid acc = 0.384, new learning rate = 9.446824413773756e-05\n",
      "epoch 47: valid acc = 0.386, new learning rate = 8.974483193085068e-05\n",
      "epoch 48: valid acc = 0.384, new learning rate = 8.525759033430814e-05\n",
      "epoch 49: valid acc = 0.384, new learning rate = 8.099471081759274e-05\n",
      "epoch 50: valid acc = 0.384, new learning rate = 7.69449752767131e-05\n"
     ]
    }
   ],
   "source": [
    "# Build a two-layer network without batch normalization.\n",
    "# Here is a demo.\n",
    "use_bn = False\n",
    "model = MLP(input_dim=3072, hidden_dims=[100], num_classes=10, \n",
    "            weight_scale=1e-3, l2_reg=0.0, use_bn=use_bn)\n",
    "optimizer = AdamOptim(model)\n",
    "# hist_no_dropout contains loss, train acc and valid acc history.\n",
    "hist_shallow_no_bn = optimizer.train(model, X_train, y_train, X_val, y_val, \n",
    "                           num_epoch=50, batch_size=100, learning_rate=1e-3, learning_decay=0.95, \n",
    "                           verbose=False, record_interval = 4)"
   ]
  },
  {
   "cell_type": "code",
   "execution_count": 19,
   "metadata": {
    "colab": {
     "base_uri": "https://localhost:8080/"
    },
    "executionInfo": {
     "elapsed": 195174,
     "status": "ok",
     "timestamp": 1604844482934,
     "user": {
      "displayName": "Hangyu Tian",
      "photoUrl": "",
      "userId": "11737407264006368031"
     },
     "user_tz": -480
    },
    "id": "sAaT4qtzftQJ",
    "outputId": "0568d6a5-44a2-41b6-a30a-fdba0626bce7"
   },
   "outputs": [
    {
     "name": "stdout",
     "output_type": "stream",
     "text": [
      "number of batches for training: 20\n",
      "epoch 1: valid acc = 0.214, new learning rate = 0.00095\n",
      "epoch 2: valid acc = 0.274, new learning rate = 0.0009025\n",
      "epoch 3: valid acc = 0.27, new learning rate = 0.000857375\n",
      "epoch 4: valid acc = 0.274, new learning rate = 0.0008145062499999999\n",
      "epoch 5: valid acc = 0.282, new learning rate = 0.0007737809374999998\n",
      "epoch 6: valid acc = 0.28, new learning rate = 0.0007350918906249997\n",
      "epoch 7: valid acc = 0.298, new learning rate = 0.0006983372960937497\n",
      "epoch 8: valid acc = 0.298, new learning rate = 0.0006634204312890621\n",
      "epoch 9: valid acc = 0.3, new learning rate = 0.000630249409724609\n",
      "epoch 10: valid acc = 0.298, new learning rate = 0.0005987369392383785\n",
      "epoch 11: valid acc = 0.31, new learning rate = 0.0005688000922764595\n",
      "epoch 12: valid acc = 0.32, new learning rate = 0.0005403600876626365\n",
      "epoch 13: valid acc = 0.326, new learning rate = 0.0005133420832795047\n",
      "epoch 14: valid acc = 0.328, new learning rate = 0.00048767497911552944\n",
      "epoch 15: valid acc = 0.338, new learning rate = 0.00046329123015975297\n",
      "epoch 16: valid acc = 0.338, new learning rate = 0.0004401266686517653\n",
      "epoch 17: valid acc = 0.338, new learning rate = 0.00041812033521917703\n",
      "epoch 18: valid acc = 0.346, new learning rate = 0.00039721431845821814\n",
      "epoch 19: valid acc = 0.346, new learning rate = 0.0003773536025353072\n",
      "epoch 20: valid acc = 0.346, new learning rate = 0.0003584859224085418\n",
      "epoch 21: valid acc = 0.354, new learning rate = 0.0003405616262881147\n",
      "epoch 22: valid acc = 0.35, new learning rate = 0.00032353354497370894\n",
      "epoch 23: valid acc = 0.346, new learning rate = 0.00030735686772502346\n",
      "epoch 24: valid acc = 0.346, new learning rate = 0.00029198902433877225\n",
      "epoch 25: valid acc = 0.35, new learning rate = 0.00027738957312183364\n",
      "epoch 26: valid acc = 0.35, new learning rate = 0.0002635200944657419\n",
      "epoch 27: valid acc = 0.35, new learning rate = 0.0002503440897424548\n",
      "epoch 28: valid acc = 0.348, new learning rate = 0.00023782688525533205\n",
      "epoch 29: valid acc = 0.35, new learning rate = 0.00022593554099256544\n",
      "epoch 30: valid acc = 0.352, new learning rate = 0.00021463876394293716\n",
      "epoch 31: valid acc = 0.352, new learning rate = 0.0002039068257457903\n",
      "epoch 32: valid acc = 0.356, new learning rate = 0.00019371148445850077\n",
      "epoch 33: valid acc = 0.36, new learning rate = 0.00018402591023557573\n",
      "epoch 34: valid acc = 0.36, new learning rate = 0.00017482461472379692\n",
      "epoch 35: valid acc = 0.358, new learning rate = 0.00016608338398760707\n",
      "epoch 36: valid acc = 0.356, new learning rate = 0.0001577792147882267\n",
      "epoch 37: valid acc = 0.356, new learning rate = 0.00014989025404881537\n",
      "epoch 38: valid acc = 0.354, new learning rate = 0.00014239574134637458\n",
      "epoch 39: valid acc = 0.354, new learning rate = 0.00013527595427905584\n",
      "epoch 40: valid acc = 0.356, new learning rate = 0.00012851215656510304\n",
      "epoch 41: valid acc = 0.356, new learning rate = 0.00012208654873684788\n",
      "epoch 42: valid acc = 0.35, new learning rate = 0.00011598222130000548\n",
      "epoch 43: valid acc = 0.35, new learning rate = 0.00011018311023500519\n",
      "epoch 44: valid acc = 0.352, new learning rate = 0.00010467395472325493\n",
      "epoch 45: valid acc = 0.352, new learning rate = 9.944025698709218e-05\n",
      "epoch 46: valid acc = 0.352, new learning rate = 9.446824413773756e-05\n",
      "epoch 47: valid acc = 0.352, new learning rate = 8.974483193085068e-05\n",
      "epoch 48: valid acc = 0.352, new learning rate = 8.525759033430814e-05\n",
      "epoch 49: valid acc = 0.354, new learning rate = 8.099471081759274e-05\n",
      "epoch 50: valid acc = 0.358, new learning rate = 7.69449752767131e-05\n"
     ]
    }
   ],
   "source": [
    "# Build a two-layer network with batch normalization. Remember to \"use_bn\".\n",
    "use_bn = True\n",
    "model = MLP(input_dim=3072, hidden_dims=[100], num_classes=10, \n",
    "            weight_scale=1e-3, l2_reg=0.0, use_bn=use_bn)\n",
    "optimizer = AdamOptim(model)\n",
    "# hist_no_dropout contains loss, train acc and valid acc history.\n",
    "hist_shallow_bn = optimizer.train(model, X_train, y_train, X_val, y_val, \n",
    "                           num_epoch=50, batch_size=100, learning_rate=1e-3, learning_decay=0.95, \n",
    "                           verbose=False, record_interval = 4)"
   ]
  },
  {
   "cell_type": "code",
   "execution_count": 20,
   "metadata": {
    "colab": {
     "base_uri": "https://localhost:8080/",
     "height": 336
    },
    "executionInfo": {
     "elapsed": 198164,
     "status": "ok",
     "timestamp": 1604844485933,
     "user": {
      "displayName": "Hangyu Tian",
      "photoUrl": "",
      "userId": "11737407264006368031"
     },
     "user_tz": -480
    },
    "id": "QSHw0ZWuftQL",
    "outputId": "7cee1b73-dd75-4f60-8f10-de938a16e6a7"
   },
   "outputs": [
    {
     "data": {
      "image/png": "[encoded data removed]",
      "text/plain": [
       "<Figure size 1080x360 with 3 Axes>"
      ]
     },
     "metadata": {
      "needs_background": "light"
     },
     "output_type": "display_data"
    }
   ],
   "source": [
    "# Plot bn and no_bn results together in three plots and make a comparison. \n",
    "title_name = [\"loss\", \"train acc\", \"val acc\"]\n",
    "_, axarr = plt.subplots(1,3, figsize=(15,5))\n",
    "for i in range(3):\n",
    "    axarr[i].plot(hist_shallow_no_bn[i], label=\"no_bn\")\n",
    "    axarr[i].plot(hist_shallow_bn[i], label=\"bn\")\n",
    "    axarr[i].legend(), axarr[i].set_title(title_name[i])\n",
    "plt.show()"
   ]
  },
  {
   "cell_type": "markdown",
   "metadata": {
    "id": "uAx6TEsxftQQ"
   },
   "source": [
    "**Experiment on deep MLP**"
   ]
  },
  {
   "cell_type": "code",
   "execution_count": 21,
   "metadata": {
    "colab": {
     "base_uri": "https://localhost:8080/"
    },
    "executionInfo": {
     "elapsed": 232166,
     "status": "ok",
     "timestamp": 1604844519944,
     "user": {
      "displayName": "Hangyu Tian",
      "photoUrl": "",
      "userId": "11737407264006368031"
     },
     "user_tz": -480
    },
    "id": "w2vKUCxdftQQ",
    "outputId": "e8385883-94a0-4e7a-8b00-0ea0d8da57f5"
   },
   "outputs": [
    {
     "name": "stdout",
     "output_type": "stream",
     "text": [
      "number of batches for training: 20\n",
      "epoch 1: valid acc = 0.1, new learning rate = 0.00019\n",
      "epoch 2: valid acc = 0.162, new learning rate = 0.0001805\n",
      "epoch 3: valid acc = 0.168, new learning rate = 0.00017147499999999998\n",
      "epoch 4: valid acc = 0.168, new learning rate = 0.00016290124999999997\n",
      "epoch 5: valid acc = 0.174, new learning rate = 0.00015475618749999996\n",
      "epoch 6: valid acc = 0.172, new learning rate = 0.00014701837812499996\n",
      "epoch 7: valid acc = 0.174, new learning rate = 0.00013966745921874994\n",
      "epoch 8: valid acc = 0.176, new learning rate = 0.00013268408625781244\n",
      "epoch 9: valid acc = 0.174, new learning rate = 0.0001260498819449218\n",
      "epoch 10: valid acc = 0.174, new learning rate = 0.00011974738784767572\n",
      "epoch 11: valid acc = 0.172, new learning rate = 0.00011376001845529192\n",
      "epoch 12: valid acc = 0.172, new learning rate = 0.00010807201753252733\n",
      "epoch 13: valid acc = 0.172, new learning rate = 0.00010266841665590096\n",
      "epoch 14: valid acc = 0.176, new learning rate = 9.75349958231059e-05\n",
      "epoch 15: valid acc = 0.174, new learning rate = 9.265824603195061e-05\n",
      "epoch 16: valid acc = 0.174, new learning rate = 8.802533373035307e-05\n",
      "epoch 17: valid acc = 0.172, new learning rate = 8.362406704383542e-05\n",
      "epoch 18: valid acc = 0.17, new learning rate = 7.944286369164364e-05\n",
      "epoch 19: valid acc = 0.172, new learning rate = 7.547072050706145e-05\n",
      "epoch 20: valid acc = 0.172, new learning rate = 7.169718448170838e-05\n",
      "epoch 21: valid acc = 0.17, new learning rate = 6.811232525762296e-05\n",
      "epoch 22: valid acc = 0.168, new learning rate = 6.470670899474181e-05\n",
      "epoch 23: valid acc = 0.168, new learning rate = 6.147137354500471e-05\n",
      "epoch 24: valid acc = 0.168, new learning rate = 5.839780486775447e-05\n",
      "epoch 25: valid acc = 0.168, new learning rate = 5.547791462436675e-05\n",
      "epoch 26: valid acc = 0.166, new learning rate = 5.270401889314841e-05\n",
      "epoch 27: valid acc = 0.168, new learning rate = 5.0068817948490985e-05\n",
      "epoch 28: valid acc = 0.166, new learning rate = 4.756537705106643e-05\n",
      "epoch 29: valid acc = 0.166, new learning rate = 4.518710819851311e-05\n",
      "epoch 30: valid acc = 0.164, new learning rate = 4.292775278858745e-05\n",
      "epoch 31: valid acc = 0.162, new learning rate = 4.078136514915808e-05\n",
      "epoch 32: valid acc = 0.16, new learning rate = 3.874229689170017e-05\n",
      "epoch 33: valid acc = 0.16, new learning rate = 3.680518204711516e-05\n",
      "epoch 34: valid acc = 0.162, new learning rate = 3.49649229447594e-05\n",
      "epoch 35: valid acc = 0.162, new learning rate = 3.321667679752143e-05\n",
      "epoch 36: valid acc = 0.162, new learning rate = 3.1555842957645355e-05\n",
      "epoch 37: valid acc = 0.162, new learning rate = 2.9978050809763088e-05\n",
      "epoch 38: valid acc = 0.158, new learning rate = 2.8479148269274933e-05\n",
      "epoch 39: valid acc = 0.158, new learning rate = 2.7055190855811184e-05\n",
      "epoch 40: valid acc = 0.158, new learning rate = 2.5702431313020624e-05\n",
      "epoch 41: valid acc = 0.158, new learning rate = 2.4417309747369593e-05\n",
      "epoch 42: valid acc = 0.16, new learning rate = 2.319644426000111e-05\n",
      "epoch 43: valid acc = 0.16, new learning rate = 2.2036622047001054e-05\n",
      "epoch 44: valid acc = 0.158, new learning rate = 2.0934790944651e-05\n",
      "epoch 45: valid acc = 0.16, new learning rate = 1.988805139741845e-05\n",
      "epoch 46: valid acc = 0.16, new learning rate = 1.8893648827547526e-05\n",
      "epoch 47: valid acc = 0.16, new learning rate = 1.7948966386170148e-05\n",
      "epoch 48: valid acc = 0.162, new learning rate = 1.705151806686164e-05\n",
      "epoch 49: valid acc = 0.16, new learning rate = 1.619894216351856e-05\n",
      "epoch 50: valid acc = 0.16, new learning rate = 1.538899505534263e-05\n"
     ]
    }
   ],
   "source": [
    "# Build a deep 5-layer network without batch normalization. Remember to \"use_bn\".\n",
    "use_bn = False\n",
    "model = MLP(input_dim=3072, hidden_dims=[100, 50, 50, 50], num_classes=10, \n",
    "            weight_scale=1e-3, l2_reg=0.0, use_bn=use_bn)\n",
    "optimizer = AdamOptim(model)\n",
    "# hist_no_dropout contains loss, train acc and valid acc history.\n",
    "hist_deep_no_bn = optimizer.train(model, X_train, y_train, X_val, y_val, \n",
    "                           num_epoch=50, batch_size=100, learning_rate=2e-4, learning_decay=0.95, \n",
    "                           verbose=False, record_interval = 4)"
   ]
  },
  {
   "cell_type": "code",
   "execution_count": 22,
   "metadata": {
    "colab": {
     "base_uri": "https://localhost:8080/"
    },
    "executionInfo": {
     "elapsed": 269501,
     "status": "ok",
     "timestamp": 1604844557287,
     "user": {
      "displayName": "Hangyu Tian",
      "photoUrl": "",
      "userId": "11737407264006368031"
     },
     "user_tz": -480
    },
    "id": "nPqLOaiqftQU",
    "outputId": "68ceaf5e-f7aa-464b-b197-0d09ad3892b2"
   },
   "outputs": [
    {
     "name": "stdout",
     "output_type": "stream",
     "text": [
      "number of batches for training: 20\n",
      "epoch 1: valid acc = 0.102, new learning rate = 0.00019\n",
      "epoch 2: valid acc = 0.098, new learning rate = 0.0001805\n",
      "epoch 3: valid acc = 0.128, new learning rate = 0.00017147499999999998\n",
      "epoch 4: valid acc = 0.136, new learning rate = 0.00016290124999999997\n",
      "epoch 5: valid acc = 0.14, new learning rate = 0.00015475618749999996\n",
      "epoch 6: valid acc = 0.138, new learning rate = 0.00014701837812499996\n",
      "epoch 7: valid acc = 0.136, new learning rate = 0.00013966745921874994\n",
      "epoch 8: valid acc = 0.146, new learning rate = 0.00013268408625781244\n",
      "epoch 9: valid acc = 0.152, new learning rate = 0.0001260498819449218\n",
      "epoch 10: valid acc = 0.154, new learning rate = 0.00011974738784767572\n",
      "epoch 11: valid acc = 0.152, new learning rate = 0.00011376001845529192\n",
      "epoch 12: valid acc = 0.154, new learning rate = 0.00010807201753252733\n",
      "epoch 13: valid acc = 0.154, new learning rate = 0.00010266841665590096\n",
      "epoch 14: valid acc = 0.154, new learning rate = 9.75349958231059e-05\n",
      "epoch 15: valid acc = 0.154, new learning rate = 9.265824603195061e-05\n",
      "epoch 16: valid acc = 0.154, new learning rate = 8.802533373035307e-05\n",
      "epoch 17: valid acc = 0.154, new learning rate = 8.362406704383542e-05\n",
      "epoch 18: valid acc = 0.154, new learning rate = 7.944286369164364e-05\n",
      "epoch 19: valid acc = 0.154, new learning rate = 7.547072050706145e-05\n",
      "epoch 20: valid acc = 0.154, new learning rate = 7.169718448170838e-05\n",
      "epoch 21: valid acc = 0.154, new learning rate = 6.811232525762296e-05\n",
      "epoch 22: valid acc = 0.154, new learning rate = 6.470670899474181e-05\n",
      "epoch 23: valid acc = 0.154, new learning rate = 6.147137354500471e-05\n",
      "epoch 24: valid acc = 0.154, new learning rate = 5.839780486775447e-05\n",
      "epoch 25: valid acc = 0.154, new learning rate = 5.547791462436675e-05\n",
      "epoch 26: valid acc = 0.154, new learning rate = 5.270401889314841e-05\n",
      "epoch 27: valid acc = 0.154, new learning rate = 5.0068817948490985e-05\n",
      "epoch 28: valid acc = 0.154, new learning rate = 4.756537705106643e-05\n",
      "epoch 29: valid acc = 0.154, new learning rate = 4.518710819851311e-05\n",
      "epoch 30: valid acc = 0.152, new learning rate = 4.292775278858745e-05\n",
      "epoch 31: valid acc = 0.15, new learning rate = 4.078136514915808e-05\n",
      "epoch 32: valid acc = 0.15, new learning rate = 3.874229689170017e-05\n",
      "epoch 33: valid acc = 0.15, new learning rate = 3.680518204711516e-05\n",
      "epoch 34: valid acc = 0.15, new learning rate = 3.49649229447594e-05\n",
      "epoch 35: valid acc = 0.136, new learning rate = 3.321667679752143e-05\n",
      "epoch 36: valid acc = 0.136, new learning rate = 3.1555842957645355e-05\n",
      "epoch 37: valid acc = 0.136, new learning rate = 2.9978050809763088e-05\n",
      "epoch 38: valid acc = 0.136, new learning rate = 2.8479148269274933e-05\n",
      "epoch 39: valid acc = 0.138, new learning rate = 2.7055190855811184e-05\n",
      "epoch 40: valid acc = 0.138, new learning rate = 2.5702431313020624e-05\n",
      "epoch 41: valid acc = 0.14, new learning rate = 2.4417309747369593e-05\n",
      "epoch 42: valid acc = 0.14, new learning rate = 2.319644426000111e-05\n",
      "epoch 43: valid acc = 0.14, new learning rate = 2.2036622047001054e-05\n",
      "epoch 44: valid acc = 0.14, new learning rate = 2.0934790944651e-05\n",
      "epoch 45: valid acc = 0.14, new learning rate = 1.988805139741845e-05\n",
      "epoch 46: valid acc = 0.14, new learning rate = 1.8893648827547526e-05\n",
      "epoch 47: valid acc = 0.142, new learning rate = 1.7948966386170148e-05\n",
      "epoch 48: valid acc = 0.142, new learning rate = 1.705151806686164e-05\n",
      "epoch 49: valid acc = 0.144, new learning rate = 1.619894216351856e-05\n",
      "epoch 50: valid acc = 0.144, new learning rate = 1.538899505534263e-05\n"
     ]
    }
   ],
   "source": [
    "# Build a deep 5-layer network with batch normalization. Remember to \"use_bn\".\n",
    "use_bn = True\n",
    "model = MLP(input_dim=3072, hidden_dims=[100, 50, 50, 50], num_classes=10, \n",
    "            weight_scale=1e-3, l2_reg=0.0, use_bn=use_bn)\n",
    "optimizer = AdamOptim(model)\n",
    "# hist_no_dropout contains loss, train acc and valid acc history.\n",
    "hist_deep_bn = optimizer.train(model, X_train, y_train, X_val, y_val, \n",
    "                           num_epoch=50, batch_size=100, learning_rate=2e-4, learning_decay=0.95, \n",
    "                           verbose=False, record_interval = 4)"
   ]
  },
  {
   "cell_type": "code",
   "execution_count": 23,
   "metadata": {
    "colab": {
     "base_uri": "https://localhost:8080/",
     "height": 336
    },
    "executionInfo": {
     "elapsed": 274518,
     "status": "ok",
     "timestamp": 1604844562313,
     "user": {
      "displayName": "Hangyu Tian",
      "photoUrl": "",
      "userId": "11737407264006368031"
     },
     "user_tz": -480
    },
    "id": "m3DOY3aCftQX",
    "outputId": "a818215a-47e8-4fe9-85a6-334f961c72e5"
   },
   "outputs": [
    {
     "data": {
      "image/png": "[encoded data removed]",
      "text/plain": [
       "<Figure size 1080x360 with 3 Axes>"
      ]
     },
     "metadata": {
      "needs_background": "light"
     },
     "output_type": "display_data"
    }
   ],
   "source": [
    "# Plot bn and no_bn results together in three plots and make a comparison. \n",
    "title_name = [\"loss\", \"train acc\", \"val acc\"]\n",
    "_, axarr = plt.subplots(1,3, figsize=(15,5))\n",
    "for i in range(3):\n",
    "    axarr[i].plot(hist_deep_no_bn[i], label=\"no_bn\")\n",
    "    axarr[i].plot(hist_deep_bn[i], label=\"bn\")\n",
    "    axarr[i].legend(), axarr[i].set_title(title_name[i])\n",
    "plt.show()"
   ]
  },
  {
   "cell_type": "markdown",
   "metadata": {
    "id": "fske7j2uftQZ"
   },
   "source": [
    "<span style=\"color:red\"><strong>TODO:</strong></span> Describe what you find in this experiment."
   ]
  },
  {
   "cell_type": "markdown",
   "metadata": {
    "id": "2hfM9wunftQZ"
   },
   "source": [
    "Answer: The purpose of the batch normalization is to make the deep networks faster and more stable, which also helps with overfitting issue. In both experiments, the loss for bn model is bigger than no_bn model, so does the training accuracy. However, in the validation accuracy we have better performance with bn model. It's working as the way it supposed to be. "
   ]
  },
  {
   "cell_type": "markdown",
   "metadata": {
    "id": "dXDfuN9fftQa"
   },
   "source": [
    "## Part 3: Dropout + Batch Normalization"
   ]
  },
  {
   "cell_type": "code",
   "execution_count": 24,
   "metadata": {
    "colab": {
     "base_uri": "https://localhost:8080/"
    },
    "executionInfo": {
     "elapsed": 298949,
     "status": "ok",
     "timestamp": 1604844586755,
     "user": {
      "displayName": "Hangyu Tian",
      "photoUrl": "",
      "userId": "11737407264006368031"
     },
     "user_tz": -480
    },
    "id": "7a8lh-mKftQa",
    "outputId": "b9bf1971-c261-4c96-bce4-a24772f13948"
   },
   "outputs": [
    {
     "name": "stdout",
     "output_type": "stream",
     "text": [
      "number of batches for training: 10\n",
      "epoch 1: valid acc = 0.142, new learning rate = 0.001\n",
      "epoch 2: valid acc = 0.148, new learning rate = 0.001\n",
      "epoch 3: valid acc = 0.156, new learning rate = 0.001\n",
      "epoch 4: valid acc = 0.164, new learning rate = 0.001\n",
      "epoch 5: valid acc = 0.166, new learning rate = 0.001\n",
      "epoch 6: valid acc = 0.17, new learning rate = 0.001\n",
      "epoch 7: valid acc = 0.164, new learning rate = 0.001\n",
      "epoch 8: valid acc = 0.158, new learning rate = 0.001\n",
      "epoch 9: valid acc = 0.164, new learning rate = 0.001\n",
      "epoch 10: valid acc = 0.166, new learning rate = 0.001\n",
      "epoch 11: valid acc = 0.168, new learning rate = 0.001\n",
      "epoch 12: valid acc = 0.168, new learning rate = 0.001\n",
      "epoch 13: valid acc = 0.168, new learning rate = 0.001\n",
      "epoch 14: valid acc = 0.16, new learning rate = 0.001\n",
      "epoch 15: valid acc = 0.162, new learning rate = 0.001\n",
      "epoch 16: valid acc = 0.166, new learning rate = 0.001\n",
      "epoch 17: valid acc = 0.162, new learning rate = 0.001\n",
      "epoch 18: valid acc = 0.164, new learning rate = 0.001\n",
      "epoch 19: valid acc = 0.164, new learning rate = 0.001\n",
      "epoch 20: valid acc = 0.16, new learning rate = 0.001\n",
      "epoch 21: valid acc = 0.162, new learning rate = 0.001\n",
      "epoch 22: valid acc = 0.172, new learning rate = 0.001\n",
      "epoch 23: valid acc = 0.174, new learning rate = 0.001\n",
      "epoch 24: valid acc = 0.176, new learning rate = 0.001\n",
      "epoch 25: valid acc = 0.178, new learning rate = 0.001\n",
      "epoch 26: valid acc = 0.19, new learning rate = 0.001\n",
      "epoch 27: valid acc = 0.192, new learning rate = 0.001\n",
      "epoch 28: valid acc = 0.2, new learning rate = 0.001\n",
      "epoch 29: valid acc = 0.206, new learning rate = 0.001\n",
      "epoch 30: valid acc = 0.214, new learning rate = 0.001\n",
      "epoch 31: valid acc = 0.218, new learning rate = 0.001\n",
      "epoch 32: valid acc = 0.222, new learning rate = 0.001\n",
      "epoch 33: valid acc = 0.22, new learning rate = 0.001\n",
      "epoch 34: valid acc = 0.228, new learning rate = 0.001\n",
      "epoch 35: valid acc = 0.232, new learning rate = 0.001\n",
      "epoch 36: valid acc = 0.226, new learning rate = 0.001\n",
      "epoch 37: valid acc = 0.234, new learning rate = 0.001\n",
      "epoch 38: valid acc = 0.238, new learning rate = 0.001\n",
      "epoch 39: valid acc = 0.24, new learning rate = 0.001\n",
      "epoch 40: valid acc = 0.244, new learning rate = 0.001\n",
      "epoch 41: valid acc = 0.24, new learning rate = 0.001\n",
      "epoch 42: valid acc = 0.238, new learning rate = 0.001\n",
      "epoch 43: valid acc = 0.248, new learning rate = 0.001\n",
      "epoch 44: valid acc = 0.25, new learning rate = 0.001\n",
      "epoch 45: valid acc = 0.254, new learning rate = 0.001\n",
      "epoch 46: valid acc = 0.256, new learning rate = 0.001\n",
      "epoch 47: valid acc = 0.248, new learning rate = 0.001\n",
      "epoch 48: valid acc = 0.252, new learning rate = 0.001\n",
      "epoch 49: valid acc = 0.254, new learning rate = 0.001\n",
      "epoch 50: valid acc = 0.26, new learning rate = 0.001\n"
     ]
    }
   ],
   "source": [
    "# Create a deep network with both dropout and batch normalization.\n",
    "dropout_config = {\"enabled\":True, \"keep_prob\": 0.7}\n",
    "use_bn = True\n",
    "model = MLP(input_dim=3072, hidden_dims=[100, 50], num_classes=10, \n",
    "            weight_scale=1e-3, l2_reg=0.0, dropout_config=dropout_config, use_bn=use_bn)\n",
    "optimizer = AdamOptim(model)\n",
    "# hist_no_dropout contains loss, train acc and valid acc history.\n",
    "hist_deep_bn = optimizer.train(model, X_train, y_train, X_val, y_val, \n",
    "                           num_epoch=50, batch_size=200, learning_rate=1e-3, learning_decay=1.0, \n",
    "                           verbose=False, record_interval = 4)"
   ]
  },
  {
   "cell_type": "markdown",
   "metadata": {
    "id": "INWdcecvftQc"
   },
   "source": [
    "## Reference\n",
    "* Weight Normalization: A Simple Reparameterization to Accelerate Training of Deep Neural Networks https://arxiv.org/abs/1602.07868\n",
    "* Highway netowrk https://arxiv.org/pdf/1505.00387.pdf"
   ]
  }
 ],
 "metadata": {
  "colab": {
   "collapsed_sections": [],
   "name": "task2-regularization.ipynb",
   "provenance": []
  },
  "kernelspec": {
   "display_name": "Python 3",
   "language": "python",
   "name": "python3"
  },
  "language_info": {
   "codemirror_mode": {
    "name": "ipython",
    "version": 3
   },
   "file_extension": ".py",
   "mimetype": "text/x-python",
   "name": "python",
   "nbconvert_exporter": "python",
   "pygments_lexer": "ipython3",
   "version": "3.7.7"
  }
 },
 "nbformat": 4,
 "nbformat_minor": 1
}
