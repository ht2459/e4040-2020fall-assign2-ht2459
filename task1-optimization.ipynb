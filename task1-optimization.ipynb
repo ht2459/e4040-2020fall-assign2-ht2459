{
 "cells": [
  {
   "cell_type": "markdown",
   "metadata": {
    "id": "-BBBvE4kz2Av"
   },
   "source": [
    "## Columbia University\n",
    "### ECBM E4040 Neural Networks and Deep Learning. Fall 2020."
   ]
  },
  {
   "cell_type": "markdown",
   "metadata": {
    "id": "gEsp60riz2Ax"
   },
   "source": [
    "## Assignment 2 - Task 1: Optimization\n",
    "\n",
    "In this task, we introduce several improved stochastic gradient descent (SGD) based optimization methods. Plain/naive SGD is a reasonable method to update neural network parameters. However, to make SGD perform well, one would need to find an appropriate learning rate and a good initial value. Otherwise, the network will get stuck if the learning rate is small, or it will diverge if the learning rate is too large. In reality, since we have no prior knowledge about the training data, it is not trivial to find a good learning rate manually. Also, when the network becomes deeper, for each layer one may need to set a different learning rate. Another common problem is the lack of sufficient training data. This can cause the training to get stuck when using the naive SGD method. These are the limitations of the plain SGD, which are motivators for creating and using improved SGD-based methods. \n",
    "\n",
    "To address the question of **how to set a good learning rate?**, one can rely on adaptive learning rate methods.  Here, you are going to experiment with **SGD with momentum**, **RMSProp**, **Adam**, **Nadam** and compare them.\n",
    "All of these optimizers are adaptive learning rate methods. Here are a few useful links: http://ruder.io/optimizing-gradient-descent/."
   ]
  },
  {
   "cell_type": "code",
   "execution_count": 1,
   "metadata": {
    "executionInfo": {
     "elapsed": 4399,
     "status": "ok",
     "timestamp": 1604838734465,
     "user": {
      "displayName": "Hangyu Tian",
      "photoUrl": "",
      "userId": "11737407264006368031"
     },
     "user_tz": -480
    },
    "id": "KMLKTUDvz2Ay"
   },
   "outputs": [],
   "source": [
    "%load_ext autoreload\n",
    "%autoreload 2\n",
    "%matplotlib inline\n",
    "\n",
    "# Import modules\n",
    "import tensorflow as tf\n",
    "import numpy as np\n",
    "import matplotlib.pyplot as plt\n",
    "from utils.cifar_utils import load_data "
   ]
  },
  {
   "cell_type": "markdown",
   "metadata": {
    "id": "QXmeUhb8z2A6"
   },
   "source": [
    "## Load CIFAR 10\n",
    "\n",
    "Here we use a small dataset with only 2500 samples to simulate the \"lack-of-data\" situation."
   ]
  },
  {
   "cell_type": "code",
   "execution_count": 2,
   "metadata": {
    "colab": {
     "base_uri": "https://localhost:8080/"
    },
    "executionInfo": {
     "elapsed": 4394,
     "status": "ok",
     "timestamp": 1604838734466,
     "user": {
      "displayName": "Hangyu Tian",
      "photoUrl": "",
      "userId": "11737407264006368031"
     },
     "user_tz": -480
    },
    "id": "CYCfiZbLz2A7",
    "outputId": "53d679d3-e362-41b9-bbfb-959faeb0cdb1"
   },
   "outputs": [
    {
     "name": "stdout",
     "output_type": "stream",
     "text": [
      "./data/cifar-10-python.tar.gz already exists. Begin extracting...\n",
      "Training data shape:  (2000, 3072)\n",
      "Training labels shape:  (2000,)\n",
      "Validation data shape:  (500, 3072)\n",
      "Validation labels shape:  (500,)\n"
     ]
    }
   ],
   "source": [
    "# Load the raw CIFAR-10 data.\n",
    "X_train, y_train, X_test, y_test = load_data()\n",
    "X_val = X_train[:500,:]\n",
    "y_val = y_train[:500]\n",
    "X_train = X_train[500:2500,:]\n",
    "y_train = y_train[500:2500]\n",
    "\n",
    "mean_image = np.mean(X_train, axis=0).astype(np.float32)\n",
    "X_train = X_train.astype(np.float32) - mean_image\n",
    "X_val = X_val.astype(np.float32) - mean_image\n",
    "\n",
    "# We have vectorized the data for you. That is, we flatten the 32×32×3 images into 1×3072 Numpy arrays.\n",
    "print('Training data shape: ', X_train.shape)\n",
    "print('Training labels shape: ', y_train.shape)\n",
    "print('Validation data shape: ', X_val.shape)\n",
    "print('Validation labels shape: ', y_val.shape)"
   ]
  },
  {
   "cell_type": "markdown",
   "metadata": {
    "id": "e0flLfcrz2BC"
   },
   "source": [
    "## Part 1: Implement Several Optimizers\n",
    "\n",
    "Instructors provide code snippets for testing student code implementations.\n",
    "\n",
    "The best anticipated achievable accuracies are around 0.3-0.4."
   ]
  },
  {
   "cell_type": "code",
   "execution_count": 3,
   "metadata": {
    "executionInfo": {
     "elapsed": 4387,
     "status": "ok",
     "timestamp": 1604838734466,
     "user": {
      "displayName": "Hangyu Tian",
      "photoUrl": "",
      "userId": "11737407264006368031"
     },
     "user_tz": -480
    },
    "id": "PgtsUSfHz2BD"
   },
   "outputs": [],
   "source": [
    "from utils.neuralnets.mlp import MLP"
   ]
  },
  {
   "cell_type": "markdown",
   "metadata": {
    "id": "o9UsCFwRz2BH"
   },
   "source": [
    "### Original SGD with learning rate decay (for comparison purposes only)"
   ]
  },
  {
   "cell_type": "code",
   "execution_count": null,
   "metadata": {
    "executionInfo": {
     "elapsed": 4382,
     "status": "ok",
     "timestamp": 1604838734467,
     "user": {
      "displayName": "Hangyu Tian",
      "photoUrl": "",
      "userId": "11737407264006368031"
     },
     "user_tz": -480
    },
    "id": "iBjkSO9pRrLy"
   },
   "outputs": [],
   "source": []
  },
  {
   "cell_type": "code",
   "execution_count": 4,
   "metadata": {
    "colab": {
     "base_uri": "https://localhost:8080/"
    },
    "executionInfo": {
     "elapsed": 14426,
     "status": "ok",
     "timestamp": 1604838744518,
     "user": {
      "displayName": "Hangyu Tian",
      "photoUrl": "",
      "userId": "11737407264006368031"
     },
     "user_tz": -480
    },
    "id": "f4WUqwQcz2BI",
    "outputId": "765392b8-3b98-48a5-93c7-a17a033a70fe",
    "scrolled": false
   },
   "outputs": [
    {
     "name": "stdout",
     "output_type": "stream",
     "text": [
      "number of batches for training: 10\n",
      "epoch 1: valid acc = 0.114, new learning rate = 0.0095\n",
      "epoch 2: valid acc = 0.116, new learning rate = 0.009025\n",
      "epoch 3: valid acc = 0.12, new learning rate = 0.00857375\n",
      "epoch 4: valid acc = 0.122, new learning rate = 0.0081450625\n",
      "epoch 5: valid acc = 0.122, new learning rate = 0.007737809374999999\n",
      "epoch 6: valid acc = 0.132, new learning rate = 0.007350918906249998\n",
      "epoch 7: valid acc = 0.128, new learning rate = 0.006983372960937498\n",
      "epoch 8: valid acc = 0.136, new learning rate = 0.006634204312890623\n",
      "epoch 9: valid acc = 0.136, new learning rate = 0.006302494097246091\n",
      "epoch 10: valid acc = 0.136, new learning rate = 0.005987369392383786\n",
      "epoch 11: valid acc = 0.138, new learning rate = 0.005688000922764597\n",
      "epoch 12: valid acc = 0.15, new learning rate = 0.005403600876626367\n",
      "epoch 13: valid acc = 0.156, new learning rate = 0.005133420832795048\n",
      "epoch 14: valid acc = 0.162, new learning rate = 0.0048767497911552955\n",
      "epoch 15: valid acc = 0.162, new learning rate = 0.00463291230159753\n",
      "epoch 16: valid acc = 0.162, new learning rate = 0.0044012666865176535\n",
      "epoch 17: valid acc = 0.162, new learning rate = 0.004181203352191771\n",
      "epoch 18: valid acc = 0.166, new learning rate = 0.003972143184582182\n",
      "epoch 19: valid acc = 0.164, new learning rate = 0.0037735360253530726\n",
      "epoch 20: valid acc = 0.162, new learning rate = 0.0035848592240854188\n",
      "epoch 21: valid acc = 0.162, new learning rate = 0.0034056162628811476\n",
      "epoch 22: valid acc = 0.164, new learning rate = 0.0032353354497370902\n",
      "epoch 23: valid acc = 0.16, new learning rate = 0.0030735686772502355\n",
      "epoch 24: valid acc = 0.164, new learning rate = 0.0029198902433877237\n",
      "epoch 25: valid acc = 0.168, new learning rate = 0.0027738957312183374\n",
      "epoch 26: valid acc = 0.172, new learning rate = 0.0026352009446574203\n",
      "epoch 27: valid acc = 0.172, new learning rate = 0.002503440897424549\n",
      "epoch 28: valid acc = 0.17, new learning rate = 0.0023782688525533216\n",
      "epoch 29: valid acc = 0.172, new learning rate = 0.0022593554099256553\n",
      "epoch 30: valid acc = 0.178, new learning rate = 0.0021463876394293723\n"
     ]
    }
   ],
   "source": [
    "from utils.optimizers import SGDOptim\n",
    "\n",
    "model = MLP(input_dim=3072, hidden_dims=[100, 100], num_classes=10, weight_scale=1e-3, l2_reg=0.0)\n",
    "optimizer = SGDOptim()\n",
    "hist_sgd = optimizer.train(model, X_train, y_train, X_val, y_val, \n",
    "                           num_epoch=30, batch_size=200, learning_rate=1e-2, learning_decay=0.95, \n",
    "                           verbose=False, record_interval=1)"
   ]
  },
  {
   "cell_type": "markdown",
   "metadata": {
    "id": "__bJQ25Qz2BM"
   },
   "source": [
    "### SGD + Momentum\n",
    "\n",
    "<span style=\"color:red\">__TODO:__</span> Implement SGD + Momentum by editing **SGDmomentumOptim** in __./utils/optimizers.py__"
   ]
  },
  {
   "cell_type": "code",
   "execution_count": 5,
   "metadata": {
    "colab": {
     "base_uri": "https://localhost:8080/"
    },
    "executionInfo": {
     "elapsed": 25452,
     "status": "ok",
     "timestamp": 1604838755551,
     "user": {
      "displayName": "Hangyu Tian",
      "photoUrl": "",
      "userId": "11737407264006368031"
     },
     "user_tz": -480
    },
    "id": "AwYw3lZ3z2BN",
    "outputId": "a19b57aa-7a41-403f-a175-7e3981a66951"
   },
   "outputs": [
    {
     "name": "stdout",
     "output_type": "stream",
     "text": [
      "number of batches for training: 10\n",
      "epoch 1: valid acc = 0.12, new learning rate = 0.0095\n",
      "epoch 2: valid acc = 0.13, new learning rate = 0.009025\n",
      "epoch 3: valid acc = 0.148, new learning rate = 0.00857375\n",
      "epoch 4: valid acc = 0.15, new learning rate = 0.0081450625\n",
      "epoch 5: valid acc = 0.166, new learning rate = 0.007737809374999999\n",
      "epoch 6: valid acc = 0.17, new learning rate = 0.007350918906249998\n",
      "epoch 7: valid acc = 0.226, new learning rate = 0.006983372960937498\n",
      "epoch 8: valid acc = 0.28, new learning rate = 0.006634204312890623\n",
      "epoch 9: valid acc = 0.264, new learning rate = 0.006302494097246091\n",
      "epoch 10: valid acc = 0.24, new learning rate = 0.005987369392383786\n",
      "epoch 11: valid acc = 0.238, new learning rate = 0.005688000922764597\n",
      "epoch 12: valid acc = 0.258, new learning rate = 0.005403600876626367\n",
      "epoch 13: valid acc = 0.246, new learning rate = 0.005133420832795048\n",
      "epoch 14: valid acc = 0.256, new learning rate = 0.0048767497911552955\n",
      "epoch 15: valid acc = 0.256, new learning rate = 0.00463291230159753\n",
      "epoch 16: valid acc = 0.282, new learning rate = 0.0044012666865176535\n",
      "epoch 17: valid acc = 0.32, new learning rate = 0.004181203352191771\n",
      "epoch 18: valid acc = 0.29, new learning rate = 0.003972143184582182\n",
      "epoch 19: valid acc = 0.314, new learning rate = 0.0037735360253530726\n",
      "epoch 20: valid acc = 0.304, new learning rate = 0.0035848592240854188\n",
      "epoch 21: valid acc = 0.312, new learning rate = 0.0034056162628811476\n",
      "epoch 22: valid acc = 0.31, new learning rate = 0.0032353354497370902\n",
      "epoch 23: valid acc = 0.318, new learning rate = 0.0030735686772502355\n",
      "epoch 24: valid acc = 0.304, new learning rate = 0.0029198902433877237\n",
      "epoch 25: valid acc = 0.308, new learning rate = 0.0027738957312183374\n",
      "epoch 26: valid acc = 0.294, new learning rate = 0.0026352009446574203\n",
      "epoch 27: valid acc = 0.318, new learning rate = 0.002503440897424549\n",
      "epoch 28: valid acc = 0.318, new learning rate = 0.0023782688525533216\n",
      "epoch 29: valid acc = 0.314, new learning rate = 0.0022593554099256553\n",
      "epoch 30: valid acc = 0.318, new learning rate = 0.0021463876394293723\n"
     ]
    }
   ],
   "source": [
    "# Verification code for your implemention\n",
    "# Please don't change anything.\n",
    "\n",
    "from utils.optimizers import SGDmomentumOptim\n",
    "\n",
    "model = MLP(input_dim=3072, hidden_dims=[100, 100], num_classes=10, l2_reg=0.0, weight_scale=1e-3)\n",
    "optimizer = SGDmomentumOptim(model, momentum=0.8)\n",
    "hist_sgd_momentum = optimizer.train(model, X_train, y_train, X_val, y_val, \n",
    "                                         num_epoch=30, batch_size=200, learning_rate=1e-2, \n",
    "                                         learning_decay=0.95, verbose=False, record_interval=1)"
   ]
  },
  {
   "cell_type": "markdown",
   "metadata": {
    "id": "gimc3Jb9z2BR"
   },
   "source": [
    "### RMSprop\n",
    "\n",
    "<span style=\"color:red\">__TODO:__</span>  Implement RMSprop by editing **RMSpropOptim** in ./utils/optimizers.py"
   ]
  },
  {
   "cell_type": "code",
   "execution_count": 6,
   "metadata": {
    "colab": {
     "base_uri": "https://localhost:8080/"
    },
    "executionInfo": {
     "elapsed": 38343,
     "status": "ok",
     "timestamp": 1604838768449,
     "user": {
      "displayName": "Hangyu Tian",
      "photoUrl": "",
      "userId": "11737407264006368031"
     },
     "user_tz": -480
    },
    "id": "ua4VIiLHz2BR",
    "outputId": "1a9d0fbb-50e5-45a4-dac9-9dcd4453577e"
   },
   "outputs": [
    {
     "name": "stdout",
     "output_type": "stream",
     "text": [
      "number of batches for training: 10\n",
      "epoch 1: valid acc = 0.12, new learning rate = 0.00095\n",
      "epoch 2: valid acc = 0.188, new learning rate = 0.0009025\n",
      "epoch 3: valid acc = 0.176, new learning rate = 0.000857375\n",
      "epoch 4: valid acc = 0.212, new learning rate = 0.0008145062499999999\n",
      "epoch 5: valid acc = 0.242, new learning rate = 0.0007737809374999998\n",
      "epoch 6: valid acc = 0.26, new learning rate = 0.0007350918906249997\n",
      "epoch 7: valid acc = 0.278, new learning rate = 0.0006983372960937497\n",
      "epoch 8: valid acc = 0.334, new learning rate = 0.0006634204312890621\n",
      "epoch 9: valid acc = 0.328, new learning rate = 0.000630249409724609\n",
      "epoch 10: valid acc = 0.358, new learning rate = 0.0005987369392383785\n",
      "epoch 11: valid acc = 0.36, new learning rate = 0.0005688000922764595\n",
      "epoch 12: valid acc = 0.328, new learning rate = 0.0005403600876626365\n",
      "epoch 13: valid acc = 0.314, new learning rate = 0.0005133420832795047\n",
      "epoch 14: valid acc = 0.342, new learning rate = 0.00048767497911552944\n",
      "epoch 15: valid acc = 0.336, new learning rate = 0.00046329123015975297\n",
      "epoch 16: valid acc = 0.348, new learning rate = 0.0004401266686517653\n",
      "epoch 17: valid acc = 0.36, new learning rate = 0.00041812033521917703\n",
      "epoch 18: valid acc = 0.352, new learning rate = 0.00039721431845821814\n",
      "epoch 19: valid acc = 0.358, new learning rate = 0.0003773536025353072\n",
      "epoch 20: valid acc = 0.372, new learning rate = 0.0003584859224085418\n",
      "epoch 21: valid acc = 0.346, new learning rate = 0.0003405616262881147\n",
      "epoch 22: valid acc = 0.384, new learning rate = 0.00032353354497370894\n",
      "epoch 23: valid acc = 0.346, new learning rate = 0.00030735686772502346\n",
      "epoch 24: valid acc = 0.35, new learning rate = 0.00029198902433877225\n",
      "epoch 25: valid acc = 0.386, new learning rate = 0.00027738957312183364\n",
      "epoch 26: valid acc = 0.37, new learning rate = 0.0002635200944657419\n",
      "epoch 27: valid acc = 0.372, new learning rate = 0.0002503440897424548\n",
      "epoch 28: valid acc = 0.37, new learning rate = 0.00023782688525533205\n",
      "epoch 29: valid acc = 0.374, new learning rate = 0.00022593554099256544\n",
      "epoch 30: valid acc = 0.374, new learning rate = 0.00021463876394293716\n"
     ]
    }
   ],
   "source": [
    "# Verification code for your implemention\n",
    "# Please don't change anything.\n",
    "\n",
    "from utils.optimizers import RMSpropOptim\n",
    "\n",
    "model = MLP(input_dim=3072, hidden_dims=[100, 100], num_classes=10, l2_reg=0.0, weight_scale=1e-3)\n",
    "optimizer = RMSpropOptim(model)\n",
    "hist_rmsprop = optimizer.train(model, X_train, y_train, X_val, y_val, \n",
    "                               num_epoch=30, batch_size=200, learning_rate=1e-3, \n",
    "                               learning_decay=0.95, verbose=False, record_interval=1)"
   ]
  },
  {
   "cell_type": "markdown",
   "metadata": {
    "id": "XJQ6YQ2iz2BW"
   },
   "source": [
    "### Adam\n",
    "\n",
    "<span style=\"color:red\">__TODO:__</span> Implement Adam by editing **AdamOptim** in ./utils/optimizers.py"
   ]
  },
  {
   "cell_type": "code",
   "execution_count": 7,
   "metadata": {
    "colab": {
     "base_uri": "https://localhost:8080/"
    },
    "executionInfo": {
     "elapsed": 51986,
     "status": "ok",
     "timestamp": 1604838782104,
     "user": {
      "displayName": "Hangyu Tian",
      "photoUrl": "",
      "userId": "11737407264006368031"
     },
     "user_tz": -480
    },
    "id": "DILM7M22z2BX",
    "outputId": "d7d58a9c-ad1c-4684-90a6-f827a347d47a"
   },
   "outputs": [
    {
     "name": "stdout",
     "output_type": "stream",
     "text": [
      "number of batches for training: 10\n",
      "epoch 1: valid acc = 0.108, new learning rate = 0.00095\n",
      "epoch 2: valid acc = 0.152, new learning rate = 0.0009025\n",
      "epoch 3: valid acc = 0.162, new learning rate = 0.000857375\n",
      "epoch 4: valid acc = 0.19, new learning rate = 0.0008145062499999999\n",
      "epoch 5: valid acc = 0.224, new learning rate = 0.0007737809374999998\n",
      "epoch 6: valid acc = 0.266, new learning rate = 0.0007350918906249997\n",
      "epoch 7: valid acc = 0.248, new learning rate = 0.0006983372960937497\n",
      "epoch 8: valid acc = 0.26, new learning rate = 0.0006634204312890621\n",
      "epoch 9: valid acc = 0.284, new learning rate = 0.000630249409724609\n",
      "epoch 10: valid acc = 0.296, new learning rate = 0.0005987369392383785\n",
      "epoch 11: valid acc = 0.302, new learning rate = 0.0005688000922764595\n",
      "epoch 12: valid acc = 0.31, new learning rate = 0.0005403600876626365\n",
      "epoch 13: valid acc = 0.304, new learning rate = 0.0005133420832795047\n",
      "epoch 14: valid acc = 0.302, new learning rate = 0.00048767497911552944\n",
      "epoch 15: valid acc = 0.292, new learning rate = 0.00046329123015975297\n",
      "epoch 16: valid acc = 0.298, new learning rate = 0.0004401266686517653\n",
      "epoch 17: valid acc = 0.304, new learning rate = 0.00041812033521917703\n",
      "epoch 18: valid acc = 0.284, new learning rate = 0.00039721431845821814\n",
      "epoch 19: valid acc = 0.296, new learning rate = 0.0003773536025353072\n",
      "epoch 20: valid acc = 0.306, new learning rate = 0.0003584859224085418\n",
      "epoch 21: valid acc = 0.324, new learning rate = 0.0003405616262881147\n",
      "epoch 22: valid acc = 0.312, new learning rate = 0.00032353354497370894\n",
      "epoch 23: valid acc = 0.306, new learning rate = 0.00030735686772502346\n",
      "epoch 24: valid acc = 0.318, new learning rate = 0.00029198902433877225\n",
      "epoch 25: valid acc = 0.302, new learning rate = 0.00027738957312183364\n",
      "epoch 26: valid acc = 0.318, new learning rate = 0.0002635200944657419\n",
      "epoch 27: valid acc = 0.312, new learning rate = 0.0002503440897424548\n",
      "epoch 28: valid acc = 0.316, new learning rate = 0.00023782688525533205\n",
      "epoch 29: valid acc = 0.322, new learning rate = 0.00022593554099256544\n",
      "epoch 30: valid acc = 0.322, new learning rate = 0.00021463876394293716\n"
     ]
    }
   ],
   "source": [
    "# Verification code for your implemention\n",
    "# Please don't change anything.\n",
    "\n",
    "from utils.optimizers import AdamOptim\n",
    "\n",
    "model = MLP(input_dim=3072, hidden_dims=[100, 100], num_classes=10, l2_reg=0.0, weight_scale=1e-3)\n",
    "optimizer = AdamOptim(model)\n",
    "hist_adam = optimizer.train(model, X_train, y_train, X_val, y_val, \n",
    "                            num_epoch=30, batch_size=200, learning_rate=1e-3, \n",
    "                            learning_decay=0.95, verbose=False, record_interval=1)"
   ]
  },
  {
   "cell_type": "markdown",
   "metadata": {
    "id": "Ij13zNpjz2Ba"
   },
   "source": [
    "### Nadam\n",
    "\n",
    "<span style=\"color:red\">__TODO:__</span> Implement Nadam by editing **NadamOptim** in ./utils/optimizers.py"
   ]
  },
  {
   "cell_type": "code",
   "execution_count": 8,
   "metadata": {
    "colab": {
     "base_uri": "https://localhost:8080/"
    },
    "executionInfo": {
     "elapsed": 69685,
     "status": "ok",
     "timestamp": 1604838799811,
     "user": {
      "displayName": "Hangyu Tian",
      "photoUrl": "",
      "userId": "11737407264006368031"
     },
     "user_tz": -480
    },
    "id": "z5M0LZXMz2Ba",
    "outputId": "00237067-3f2d-4c21-9bd4-83ba98d29a37"
   },
   "outputs": [
    {
     "name": "stdout",
     "output_type": "stream",
     "text": [
      "number of batches for training: 10\n",
      "epoch 1: valid acc = 0.16, new learning rate = 0.000475\n",
      "epoch 2: valid acc = 0.154, new learning rate = 0.00045125\n",
      "epoch 3: valid acc = 0.17, new learning rate = 0.0004286875\n",
      "epoch 4: valid acc = 0.164, new learning rate = 0.00040725312499999993\n",
      "epoch 5: valid acc = 0.174, new learning rate = 0.0003868904687499999\n",
      "epoch 6: valid acc = 0.242, new learning rate = 0.0003675459453124999\n",
      "epoch 7: valid acc = 0.246, new learning rate = 0.00034916864804687486\n",
      "epoch 8: valid acc = 0.272, new learning rate = 0.0003317102156445311\n",
      "epoch 9: valid acc = 0.278, new learning rate = 0.0003151247048623045\n",
      "epoch 10: valid acc = 0.298, new learning rate = 0.00029936846961918924\n",
      "epoch 11: valid acc = 0.29, new learning rate = 0.00028440004613822977\n",
      "epoch 12: valid acc = 0.286, new learning rate = 0.00027018004383131826\n",
      "epoch 13: valid acc = 0.286, new learning rate = 0.00025667104163975234\n",
      "epoch 14: valid acc = 0.28, new learning rate = 0.00024383748955776472\n",
      "epoch 15: valid acc = 0.274, new learning rate = 0.00023164561507987649\n",
      "epoch 16: valid acc = 0.274, new learning rate = 0.00022006333432588265\n",
      "epoch 17: valid acc = 0.282, new learning rate = 0.00020906016760958852\n",
      "epoch 18: valid acc = 0.288, new learning rate = 0.00019860715922910907\n",
      "epoch 19: valid acc = 0.3, new learning rate = 0.0001886768012676536\n",
      "epoch 20: valid acc = 0.308, new learning rate = 0.0001792429612042709\n",
      "epoch 21: valid acc = 0.298, new learning rate = 0.00017028081314405735\n",
      "epoch 22: valid acc = 0.296, new learning rate = 0.00016176677248685447\n",
      "epoch 23: valid acc = 0.3, new learning rate = 0.00015367843386251173\n",
      "epoch 24: valid acc = 0.288, new learning rate = 0.00014599451216938612\n",
      "epoch 25: valid acc = 0.292, new learning rate = 0.00013869478656091682\n",
      "epoch 26: valid acc = 0.3, new learning rate = 0.00013176004723287096\n",
      "epoch 27: valid acc = 0.322, new learning rate = 0.0001251720448712274\n",
      "epoch 28: valid acc = 0.308, new learning rate = 0.00011891344262766602\n",
      "epoch 29: valid acc = 0.31, new learning rate = 0.00011296777049628272\n",
      "epoch 30: valid acc = 0.322, new learning rate = 0.00010731938197146858\n"
     ]
    }
   ],
   "source": [
    "# Verification code for your implemention\n",
    "# Please don't change anything.\n",
    "\n",
    "from utils.optimizers import NadamOptim\n",
    "\n",
    "model = MLP(input_dim=3072, hidden_dims=[100, 100], num_classes=10, l2_reg=0.0, weight_scale=1e-3)\n",
    "optimizer = NadamOptim(model)\n",
    "hist_nadam= optimizer.train(model, X_train, y_train, X_val, y_val, \n",
    "                            num_epoch=30, batch_size=200, learning_rate=5e-4, \n",
    "                            learning_decay=0.95, verbose=False, record_interval=1)"
   ]
  },
  {
   "cell_type": "markdown",
   "metadata": {
    "id": "6qZiYZEyz2Be"
   },
   "source": [
    "## Part 2: Comparison\n",
    "\n",
    "<span style=\"color:red\">__TODO:__</span> Run the following cells, which plot the loss curves of different optimizers. "
   ]
  },
  {
   "cell_type": "code",
   "execution_count": 9,
   "metadata": {
    "executionInfo": {
     "elapsed": 69679,
     "status": "ok",
     "timestamp": 1604838799812,
     "user": {
      "displayName": "Hangyu Tian",
      "photoUrl": "",
      "userId": "11737407264006368031"
     },
     "user_tz": -480
    },
    "id": "yAT4f0iEz2Be"
   },
   "outputs": [],
   "source": [
    "loss_hist_sgd, train_acc_hist_sgd, val_acc_hist_sgd = hist_sgd\n",
    "loss_hist_momentum, train_acc_hist_momentum, val_acc_hist_momentum = hist_sgd_momentum\n",
    "loss_hist_rmsprop, train_acc_hist_rmsprop, val_acc_hist_rmsprop = hist_rmsprop\n",
    "loss_hist_adam, train_acc_hist_adam, val_acc_hist_adam = hist_adam\n",
    "loss_hist_nadam, train_acc_hist_nadam, val_acc_hist_nadam = hist_nadam"
   ]
  },
  {
   "cell_type": "code",
   "execution_count": 10,
   "metadata": {
    "colab": {
     "base_uri": "https://localhost:8080/",
     "height": 265
    },
    "executionInfo": {
     "elapsed": 69673,
     "status": "ok",
     "timestamp": 1604838799813,
     "user": {
      "displayName": "Hangyu Tian",
      "photoUrl": "",
      "userId": "11737407264006368031"
     },
     "user_tz": -480
    },
    "id": "Xys8o1U6z2Bh",
    "outputId": "fb64ae8d-6946-4e1f-c519-0dcb3cb98d2f"
   },
   "outputs": [
    {
     "data": {
      "image/png": "[encoded data removed]",
      "text/plain": [
       "<Figure size 432x288 with 1 Axes>"
      ]
     },
     "metadata": {
      "needs_background": "light"
     },
     "output_type": "display_data"
    }
   ],
   "source": [
    "# Plot the training error curves for implemented optimizers\n",
    "plt.plot(loss_hist_sgd, label=\"sgd\")\n",
    "plt.plot(loss_hist_momentum, label=\"momentum\")\n",
    "plt.plot(loss_hist_rmsprop, label=\"rmsprop\")\n",
    "plt.plot(loss_hist_adam, label=\"adam\")\n",
    "plt.plot(loss_hist_nadam, label=\"nadam\")\n",
    "plt.legend()\n",
    "plt.show()"
   ]
  },
  {
   "cell_type": "code",
   "execution_count": 11,
   "metadata": {
    "colab": {
     "base_uri": "https://localhost:8080/",
     "height": 265
    },
    "executionInfo": {
     "elapsed": 73248,
     "status": "ok",
     "timestamp": 1604838803399,
     "user": {
      "displayName": "Hangyu Tian",
      "photoUrl": "",
      "userId": "11737407264006368031"
     },
     "user_tz": -480
    },
    "id": "tZuelZuEz2Bk",
    "outputId": "c2381b39-b78f-462c-d102-1643059bfdd8"
   },
   "outputs": [
    {
     "data": {
      "image/png": "[encoded data removed]",
      "text/plain": [
       "<Figure size 432x288 with 1 Axes>"
      ]
     },
     "metadata": {
      "needs_background": "light"
     },
     "output_type": "display_data"
    }
   ],
   "source": [
    "# Plot the training accuracy curves for implemented optimizers\n",
    "plt.plot(train_acc_hist_sgd, label=\"sgd\")\n",
    "plt.plot(train_acc_hist_momentum, label=\"momentum\")\n",
    "plt.plot(train_acc_hist_rmsprop, label=\"rmsprop\")\n",
    "plt.plot(train_acc_hist_adam, label=\"adam\")\n",
    "plt.plot(train_acc_hist_nadam, label=\"nadam\")\n",
    "plt.legend()\n",
    "plt.show()"
   ]
  },
  {
   "cell_type": "code",
   "execution_count": 12,
   "metadata": {
    "colab": {
     "base_uri": "https://localhost:8080/",
     "height": 265
    },
    "executionInfo": {
     "elapsed": 73240,
     "status": "ok",
     "timestamp": 1604838803400,
     "user": {
      "displayName": "Hangyu Tian",
      "photoUrl": "",
      "userId": "11737407264006368031"
     },
     "user_tz": -480
    },
    "id": "EMCHdfV5z2Bn",
    "outputId": "863be66f-9f97-4135-efb1-ebfa492b7b67"
   },
   "outputs": [
    {
     "data": {
      "image/png": "[encoded data removed]",
      "text/plain": [
       "<Figure size 432x288 with 1 Axes>"
      ]
     },
     "metadata": {
      "needs_background": "light"
     },
     "output_type": "display_data"
    }
   ],
   "source": [
    "# Plot the validation accuracy curves for implemented optimizers\n",
    "plt.plot(val_acc_hist_sgd, label=\"sgd\")\n",
    "plt.plot(val_acc_hist_momentum, label=\"momentum\")\n",
    "plt.plot(val_acc_hist_rmsprop, label=\"rmsprop\")\n",
    "plt.plot(val_acc_hist_adam, label=\"adam\")\n",
    "plt.plot(val_acc_hist_nadam, label=\"nadam\")\n",
    "plt.legend()\n",
    "plt.show()"
   ]
  },
  {
   "cell_type": "markdown",
   "metadata": {
    "collapsed": true,
    "id": "QBRvrAYhz2Bq"
   },
   "source": [
    "<span style=\"color:red\">__TODO:__</span> Describe your results, and discuss your understandings of these optimizers, such as their advantages/disadvantages and when to use them."
   ]
  },
  {
   "cell_type": "markdown",
   "metadata": {
    "id": "mpv_MMsSz2Br"
   },
   "source": [
    "Answer: RMSprop provides the best result comparing the rest optimization algorithm, followed by adam, momentum and nadam. The SGD algorithm is the slowest one due to the property that it does not associate with any velocity parameters. RMSprop updates the learning rate by dividing an exponentially decaying average of the squared gradients which performs better in the nonconvex setting. Adam is a combination of both Momentum and RMSProp, which computes the learning rate adaptively. And it includes bias corrections to the estimates of both the first-order moments and the second-order moments. Nadam combines the Adam and NAG. "
   ]
  }
 ],
 "metadata": {
  "colab": {
   "collapsed_sections": [],
   "name": "task1-optimization.ipynb",
   "provenance": []
  },
  "kernelspec": {
   "display_name": "Python 3",
   "language": "python",
   "name": "python3"
  },
  "language_info": {
   "codemirror_mode": {
    "name": "ipython",
    "version": 3
   },
   "file_extension": ".py",
   "mimetype": "text/x-python",
   "name": "python",
   "nbconvert_exporter": "python",
   "pygments_lexer": "ipython3",
   "version": "3.7.7"
  }
 },
 "nbformat": 4,
 "nbformat_minor": 1
}
